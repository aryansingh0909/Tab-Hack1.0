{
 "cells": [
  {
   "cell_type": "code",
   "execution_count": 1,
   "id": "cb0b4ffe",
   "metadata": {
    "_cell_guid": "b1076dfc-b9ad-4769-8c92-a6c4dae69d19",
    "_uuid": "8f2839f25d086af736a60e9eeb907d3b93b6e0e5",
    "execution": {
     "iopub.execute_input": "2022-08-18T06:14:40.123177Z",
     "iopub.status.busy": "2022-08-18T06:14:40.122715Z",
     "iopub.status.idle": "2022-08-18T06:14:41.336381Z",
     "shell.execute_reply": "2022-08-18T06:14:41.334965Z"
    },
    "papermill": {
     "duration": 1.241919,
     "end_time": "2022-08-18T06:14:41.339381",
     "exception": false,
     "start_time": "2022-08-18T06:14:40.097462",
     "status": "completed"
    },
    "tags": []
   },
   "outputs": [
    {
     "name": "stdout",
     "output_type": "stream",
     "text": [
      "/kaggle/input/tabhack10/Week5_train.csv\n",
      "/kaggle/input/tabhack10/Week5_test.csv\n"
     ]
    }
   ],
   "source": [
    "# This Python 3 environment comes with many helpful analytics libraries installed\n",
    "# It is defined by the kaggle/python Docker image: https://github.com/kaggle/docker-python\n",
    "# For example, here's several helpful packages to load\n",
    "\n",
    "import numpy as np # linear algebra\n",
    "import pandas as pd # data processing, CSV file I/O (e.g. pd.read_csv)\n",
    "from sklearn.model_selection import train_test_split\n",
    "from sklearn.metrics import f1_score\n",
    "from sklearn.metrics import precision_score , recall_score\n",
    "from sklearn.metrics import classification_report\n",
    "from sklearn.model_selection import RandomizedSearchCV, GridSearchCV\n",
    "from sklearn.model_selection import cross_val_score\n",
    "# Input data files are available in the read-only \"../input/\" directory\n",
    "# For example, running this (by clicking run or pressing Shift+Enter) will list all files under the input directory\n",
    "\n",
    "import os\n",
    "for dirname, _, filenames in os.walk('/kaggle/input'):\n",
    "    for filename in filenames:\n",
    "        print(os.path.join(dirname, filename))\n",
    "\n",
    "# You can write up to 20GB to the current directory (/kaggle/working/) that gets preserved as output when you create a version using \"Save & Run All\" \n",
    "# You can also write temporary files to /kaggle/temp/, but they won't be saved outside of the current session"
   ]
  },
  {
   "cell_type": "markdown",
   "id": "2d13ac6f",
   "metadata": {
    "papermill": {
     "duration": 0.018522,
     "end_time": "2022-08-18T06:14:41.376969",
     "exception": false,
     "start_time": "2022-08-18T06:14:41.358447",
     "status": "completed"
    },
    "tags": []
   },
   "source": [
    "### I am commenting out the most of the code otherwise it will take more than 3-4 hours to commit the notebook. You can edit this notebook and uncomment the cells to try. "
   ]
  },
  {
   "cell_type": "markdown",
   "id": "29500a03",
   "metadata": {
    "papermill": {
     "duration": 0.018374,
     "end_time": "2022-08-18T06:14:41.413938",
     "exception": false,
     "start_time": "2022-08-18T06:14:41.395564",
     "status": "completed"
    },
    "tags": []
   },
   "source": [
    "**I like to use this simple time function to measure the time taken by algorithms to run :)**"
   ]
  },
  {
   "cell_type": "code",
   "execution_count": 2,
   "id": "e284b605",
   "metadata": {
    "execution": {
     "iopub.execute_input": "2022-08-18T06:14:41.454056Z",
     "iopub.status.busy": "2022-08-18T06:14:41.452869Z",
     "iopub.status.idle": "2022-08-18T06:14:41.459498Z",
     "shell.execute_reply": "2022-08-18T06:14:41.458616Z"
    },
    "papermill": {
     "duration": 0.028947,
     "end_time": "2022-08-18T06:14:41.461615",
     "exception": false,
     "start_time": "2022-08-18T06:14:41.432668",
     "status": "completed"
    },
    "tags": []
   },
   "outputs": [],
   "source": [
    "from datetime import datetime\n",
    "\n",
    "\n",
    "def timer(start_time=None):\n",
    "    if not start_time:\n",
    "        start_time = datetime.now()\n",
    "        return start_time\n",
    "    elif start_time:\n",
    "        thour, temp_sec = divmod((datetime.now() - start_time).total_seconds(), 3600)\n",
    "        tmin, tsec = divmod(temp_sec, 60)\n",
    "        print('\\n Time taken: %i hours %i minutes and %s seconds.' % (thour, tmin, round(tsec, 2)))"
   ]
  },
  {
   "cell_type": "markdown",
   "id": "55a80530",
   "metadata": {
    "papermill": {
     "duration": 0.018312,
     "end_time": "2022-08-18T06:14:41.498575",
     "exception": false,
     "start_time": "2022-08-18T06:14:41.480263",
     "status": "completed"
    },
    "tags": []
   },
   "source": [
    "#### Maybe better EDA can be performed on this dataset. I learned many new techniques but tried with the previous knowledge. Feature Engineering was not helping out with this dataset."
   ]
  },
  {
   "cell_type": "markdown",
   "id": "8682be21",
   "metadata": {
    "papermill": {
     "duration": 0.018575,
     "end_time": "2022-08-18T06:14:41.535935",
     "exception": false,
     "start_time": "2022-08-18T06:14:41.517360",
     "status": "completed"
    },
    "tags": []
   },
   "source": [
    "#### I would prefer to combine train and test dataset and then apply the methods to prepare the data, but I haven't done it in this notebook."
   ]
  },
  {
   "cell_type": "code",
   "execution_count": 3,
   "id": "07323d05",
   "metadata": {
    "execution": {
     "iopub.execute_input": "2022-08-18T06:14:41.575474Z",
     "iopub.status.busy": "2022-08-18T06:14:41.574724Z",
     "iopub.status.idle": "2022-08-18T06:14:41.657584Z",
     "shell.execute_reply": "2022-08-18T06:14:41.656408Z"
    },
    "papermill": {
     "duration": 0.105542,
     "end_time": "2022-08-18T06:14:41.660100",
     "exception": false,
     "start_time": "2022-08-18T06:14:41.554558",
     "status": "completed"
    },
    "tags": []
   },
   "outputs": [
    {
     "data": {
      "text/html": [
       "<div>\n",
       "<style scoped>\n",
       "    .dataframe tbody tr th:only-of-type {\n",
       "        vertical-align: middle;\n",
       "    }\n",
       "\n",
       "    .dataframe tbody tr th {\n",
       "        vertical-align: top;\n",
       "    }\n",
       "\n",
       "    .dataframe thead th {\n",
       "        text-align: right;\n",
       "    }\n",
       "</style>\n",
       "<table border=\"1\" class=\"dataframe\">\n",
       "  <thead>\n",
       "    <tr style=\"text-align: right;\">\n",
       "      <th></th>\n",
       "      <th>id</th>\n",
       "      <th>Age</th>\n",
       "      <th>Working_class</th>\n",
       "      <th>fnlwgt</th>\n",
       "      <th>education</th>\n",
       "      <th>education_num</th>\n",
       "      <th>marital_status</th>\n",
       "      <th>Occupation</th>\n",
       "      <th>relationship</th>\n",
       "      <th>race</th>\n",
       "      <th>gender</th>\n",
       "      <th>capital_gain</th>\n",
       "      <th>capital_loss</th>\n",
       "      <th>hours_per_week</th>\n",
       "      <th>native_country</th>\n",
       "      <th>earning</th>\n",
       "    </tr>\n",
       "  </thead>\n",
       "  <tbody>\n",
       "    <tr>\n",
       "      <th>0</th>\n",
       "      <td>0</td>\n",
       "      <td>37</td>\n",
       "      <td>Private</td>\n",
       "      <td>280966</td>\n",
       "      <td>Bachelors</td>\n",
       "      <td>13</td>\n",
       "      <td>Married-civ-spouse</td>\n",
       "      <td>Handlers-cleaners</td>\n",
       "      <td>Husband</td>\n",
       "      <td>White</td>\n",
       "      <td>Male</td>\n",
       "      <td>0</td>\n",
       "      <td>0</td>\n",
       "      <td>40</td>\n",
       "      <td>United-States</td>\n",
       "      <td>0</td>\n",
       "    </tr>\n",
       "    <tr>\n",
       "      <th>1</th>\n",
       "      <td>1</td>\n",
       "      <td>41</td>\n",
       "      <td>Private</td>\n",
       "      <td>205153</td>\n",
       "      <td>Assoc-voc</td>\n",
       "      <td>11</td>\n",
       "      <td>Married-civ-spouse</td>\n",
       "      <td>Exec-managerial</td>\n",
       "      <td>Husband</td>\n",
       "      <td>White</td>\n",
       "      <td>Male</td>\n",
       "      <td>0</td>\n",
       "      <td>0</td>\n",
       "      <td>40</td>\n",
       "      <td>United-States</td>\n",
       "      <td>1</td>\n",
       "    </tr>\n",
       "    <tr>\n",
       "      <th>2</th>\n",
       "      <td>2</td>\n",
       "      <td>23</td>\n",
       "      <td>Private</td>\n",
       "      <td>237720</td>\n",
       "      <td>Bachelors</td>\n",
       "      <td>13</td>\n",
       "      <td>Never-married</td>\n",
       "      <td>Prof-specialty</td>\n",
       "      <td>Not-in-family</td>\n",
       "      <td>White</td>\n",
       "      <td>Male</td>\n",
       "      <td>0</td>\n",
       "      <td>0</td>\n",
       "      <td>38</td>\n",
       "      <td>United-States</td>\n",
       "      <td>1</td>\n",
       "    </tr>\n",
       "    <tr>\n",
       "      <th>3</th>\n",
       "      <td>3</td>\n",
       "      <td>35</td>\n",
       "      <td>Private</td>\n",
       "      <td>276153</td>\n",
       "      <td>Bachelors</td>\n",
       "      <td>13</td>\n",
       "      <td>Never-married</td>\n",
       "      <td>Tech-support</td>\n",
       "      <td>Not-in-family</td>\n",
       "      <td>Asian-Pac-Islander</td>\n",
       "      <td>Female</td>\n",
       "      <td>4650</td>\n",
       "      <td>0</td>\n",
       "      <td>40</td>\n",
       "      <td>United-States</td>\n",
       "      <td>1</td>\n",
       "    </tr>\n",
       "    <tr>\n",
       "      <th>4</th>\n",
       "      <td>4</td>\n",
       "      <td>28</td>\n",
       "      <td>Private</td>\n",
       "      <td>216178</td>\n",
       "      <td>HS-grad</td>\n",
       "      <td>9</td>\n",
       "      <td>Married-civ-spouse</td>\n",
       "      <td>Sales</td>\n",
       "      <td>Husband</td>\n",
       "      <td>White</td>\n",
       "      <td>Male</td>\n",
       "      <td>0</td>\n",
       "      <td>0</td>\n",
       "      <td>40</td>\n",
       "      <td>United-States</td>\n",
       "      <td>1</td>\n",
       "    </tr>\n",
       "  </tbody>\n",
       "</table>\n",
       "</div>"
      ],
      "text/plain": [
       "   id  Age Working_class  fnlwgt   education  education_num  \\\n",
       "0   0   37       Private  280966   Bachelors             13   \n",
       "1   1   41       Private  205153   Assoc-voc             11   \n",
       "2   2   23       Private  237720   Bachelors             13   \n",
       "3   3   35       Private  276153   Bachelors             13   \n",
       "4   4   28       Private  216178     HS-grad              9   \n",
       "\n",
       "        marital_status          Occupation    relationship  \\\n",
       "0   Married-civ-spouse   Handlers-cleaners         Husband   \n",
       "1   Married-civ-spouse     Exec-managerial         Husband   \n",
       "2        Never-married      Prof-specialty   Not-in-family   \n",
       "3        Never-married        Tech-support   Not-in-family   \n",
       "4   Married-civ-spouse               Sales         Husband   \n",
       "\n",
       "                  race   gender  capital_gain  capital_loss  hours_per_week  \\\n",
       "0                White     Male             0             0              40   \n",
       "1                White     Male             0             0              40   \n",
       "2                White     Male             0             0              38   \n",
       "3   Asian-Pac-Islander   Female          4650             0              40   \n",
       "4                White     Male             0             0              40   \n",
       "\n",
       "   native_country  earning  \n",
       "0   United-States        0  \n",
       "1   United-States        1  \n",
       "2   United-States        1  \n",
       "3   United-States        1  \n",
       "4   United-States        1  "
      ]
     },
     "execution_count": 3,
     "metadata": {},
     "output_type": "execute_result"
    }
   ],
   "source": [
    "df_train = pd.read_csv('../input/tabhack10/Week5_train.csv')\n",
    "df_train.head(5)"
   ]
  },
  {
   "cell_type": "code",
   "execution_count": 4,
   "id": "c89effb8",
   "metadata": {
    "execution": {
     "iopub.execute_input": "2022-08-18T06:14:41.700585Z",
     "iopub.status.busy": "2022-08-18T06:14:41.699762Z",
     "iopub.status.idle": "2022-08-18T06:14:41.763480Z",
     "shell.execute_reply": "2022-08-18T06:14:41.762317Z"
    },
    "papermill": {
     "duration": 0.086899,
     "end_time": "2022-08-18T06:14:41.766107",
     "exception": false,
     "start_time": "2022-08-18T06:14:41.679208",
     "status": "completed"
    },
    "tags": []
   },
   "outputs": [
    {
     "data": {
      "text/html": [
       "<div>\n",
       "<style scoped>\n",
       "    .dataframe tbody tr th:only-of-type {\n",
       "        vertical-align: middle;\n",
       "    }\n",
       "\n",
       "    .dataframe tbody tr th {\n",
       "        vertical-align: top;\n",
       "    }\n",
       "\n",
       "    .dataframe thead th {\n",
       "        text-align: right;\n",
       "    }\n",
       "</style>\n",
       "<table border=\"1\" class=\"dataframe\">\n",
       "  <thead>\n",
       "    <tr style=\"text-align: right;\">\n",
       "      <th></th>\n",
       "      <th>id</th>\n",
       "      <th>Age</th>\n",
       "      <th>Working_class</th>\n",
       "      <th>fnlwgt</th>\n",
       "      <th>education</th>\n",
       "      <th>education_num</th>\n",
       "      <th>marital_status</th>\n",
       "      <th>Occupation</th>\n",
       "      <th>relationship</th>\n",
       "      <th>race</th>\n",
       "      <th>gender</th>\n",
       "      <th>capital_gain</th>\n",
       "      <th>capital_loss</th>\n",
       "      <th>hours_per_week</th>\n",
       "      <th>native_country</th>\n",
       "    </tr>\n",
       "  </thead>\n",
       "  <tbody>\n",
       "    <tr>\n",
       "      <th>0</th>\n",
       "      <td>0</td>\n",
       "      <td>34</td>\n",
       "      <td>Private</td>\n",
       "      <td>174789</td>\n",
       "      <td>HS-grad</td>\n",
       "      <td>9</td>\n",
       "      <td>Married-civ-spouse</td>\n",
       "      <td>Sales</td>\n",
       "      <td>Husband</td>\n",
       "      <td>White</td>\n",
       "      <td>Male</td>\n",
       "      <td>0</td>\n",
       "      <td>0</td>\n",
       "      <td>45</td>\n",
       "      <td>United-States</td>\n",
       "    </tr>\n",
       "    <tr>\n",
       "      <th>1</th>\n",
       "      <td>1</td>\n",
       "      <td>38</td>\n",
       "      <td>Private</td>\n",
       "      <td>181943</td>\n",
       "      <td>Bachelors</td>\n",
       "      <td>13</td>\n",
       "      <td>Never-married</td>\n",
       "      <td>Adm-clerical</td>\n",
       "      <td>Not-in-family</td>\n",
       "      <td>White</td>\n",
       "      <td>Female</td>\n",
       "      <td>0</td>\n",
       "      <td>0</td>\n",
       "      <td>35</td>\n",
       "      <td>United-States</td>\n",
       "    </tr>\n",
       "    <tr>\n",
       "      <th>2</th>\n",
       "      <td>2</td>\n",
       "      <td>45</td>\n",
       "      <td>Private</td>\n",
       "      <td>175625</td>\n",
       "      <td>HS-grad</td>\n",
       "      <td>9</td>\n",
       "      <td>Separated</td>\n",
       "      <td>Adm-clerical</td>\n",
       "      <td>Unmarried</td>\n",
       "      <td>White</td>\n",
       "      <td>Female</td>\n",
       "      <td>0</td>\n",
       "      <td>0</td>\n",
       "      <td>38</td>\n",
       "      <td>United-States</td>\n",
       "    </tr>\n",
       "    <tr>\n",
       "      <th>3</th>\n",
       "      <td>3</td>\n",
       "      <td>20</td>\n",
       "      <td>Private</td>\n",
       "      <td>121023</td>\n",
       "      <td>Some-college</td>\n",
       "      <td>10</td>\n",
       "      <td>Never-married</td>\n",
       "      <td>Adm-clerical</td>\n",
       "      <td>Own-child</td>\n",
       "      <td>White</td>\n",
       "      <td>Female</td>\n",
       "      <td>0</td>\n",
       "      <td>0</td>\n",
       "      <td>15</td>\n",
       "      <td>United-States</td>\n",
       "    </tr>\n",
       "    <tr>\n",
       "      <th>4</th>\n",
       "      <td>4</td>\n",
       "      <td>41</td>\n",
       "      <td>Local-gov</td>\n",
       "      <td>81054</td>\n",
       "      <td>Some-college</td>\n",
       "      <td>10</td>\n",
       "      <td>Divorced</td>\n",
       "      <td>Exec-managerial</td>\n",
       "      <td>Unmarried</td>\n",
       "      <td>White</td>\n",
       "      <td>Female</td>\n",
       "      <td>0</td>\n",
       "      <td>0</td>\n",
       "      <td>25</td>\n",
       "      <td>United-States</td>\n",
       "    </tr>\n",
       "  </tbody>\n",
       "</table>\n",
       "</div>"
      ],
      "text/plain": [
       "   id  Age Working_class  fnlwgt      education  education_num  \\\n",
       "0   0   34       Private  174789        HS-grad              9   \n",
       "1   1   38       Private  181943      Bachelors             13   \n",
       "2   2   45       Private  175625        HS-grad              9   \n",
       "3   3   20       Private  121023   Some-college             10   \n",
       "4   4   41     Local-gov   81054   Some-college             10   \n",
       "\n",
       "        marital_status        Occupation    relationship    race   gender  \\\n",
       "0   Married-civ-spouse             Sales         Husband   White     Male   \n",
       "1        Never-married      Adm-clerical   Not-in-family   White   Female   \n",
       "2            Separated      Adm-clerical       Unmarried   White   Female   \n",
       "3        Never-married      Adm-clerical       Own-child   White   Female   \n",
       "4             Divorced   Exec-managerial       Unmarried   White   Female   \n",
       "\n",
       "   capital_gain  capital_loss  hours_per_week  native_country  \n",
       "0             0             0              45   United-States  \n",
       "1             0             0              35   United-States  \n",
       "2             0             0              38   United-States  \n",
       "3             0             0              15   United-States  \n",
       "4             0             0              25   United-States  "
      ]
     },
     "execution_count": 4,
     "metadata": {},
     "output_type": "execute_result"
    }
   ],
   "source": [
    "df_test = pd.read_csv('../input/tabhack10/Week5_test.csv')\n",
    "df_test.head(5)"
   ]
  },
  {
   "cell_type": "code",
   "execution_count": 5,
   "id": "20175399",
   "metadata": {
    "execution": {
     "iopub.execute_input": "2022-08-18T06:14:41.807414Z",
     "iopub.status.busy": "2022-08-18T06:14:41.806689Z",
     "iopub.status.idle": "2022-08-18T06:14:41.814124Z",
     "shell.execute_reply": "2022-08-18T06:14:41.812906Z"
    },
    "papermill": {
     "duration": 0.030889,
     "end_time": "2022-08-18T06:14:41.816566",
     "exception": false,
     "start_time": "2022-08-18T06:14:41.785677",
     "status": "completed"
    },
    "tags": []
   },
   "outputs": [
    {
     "data": {
      "text/plain": [
       "(13842, 16)"
      ]
     },
     "execution_count": 5,
     "metadata": {},
     "output_type": "execute_result"
    }
   ],
   "source": [
    "df_train.shape"
   ]
  },
  {
   "cell_type": "code",
   "execution_count": 6,
   "id": "246b93e0",
   "metadata": {
    "execution": {
     "iopub.execute_input": "2022-08-18T06:14:41.857367Z",
     "iopub.status.busy": "2022-08-18T06:14:41.856951Z",
     "iopub.status.idle": "2022-08-18T06:14:41.864157Z",
     "shell.execute_reply": "2022-08-18T06:14:41.862890Z"
    },
    "papermill": {
     "duration": 0.030513,
     "end_time": "2022-08-18T06:14:41.866607",
     "exception": false,
     "start_time": "2022-08-18T06:14:41.836094",
     "status": "completed"
    },
    "tags": []
   },
   "outputs": [
    {
     "data": {
      "text/plain": [
       "(13840, 15)"
      ]
     },
     "execution_count": 6,
     "metadata": {},
     "output_type": "execute_result"
    }
   ],
   "source": [
    "df_test.shape"
   ]
  },
  {
   "cell_type": "code",
   "execution_count": 7,
   "id": "257214a1",
   "metadata": {
    "execution": {
     "iopub.execute_input": "2022-08-18T06:14:41.908843Z",
     "iopub.status.busy": "2022-08-18T06:14:41.908116Z",
     "iopub.status.idle": "2022-08-18T06:14:41.957549Z",
     "shell.execute_reply": "2022-08-18T06:14:41.955895Z"
    },
    "papermill": {
     "duration": 0.074529,
     "end_time": "2022-08-18T06:14:41.960774",
     "exception": false,
     "start_time": "2022-08-18T06:14:41.886245",
     "status": "completed"
    },
    "tags": []
   },
   "outputs": [
    {
     "name": "stdout",
     "output_type": "stream",
     "text": [
      "<class 'pandas.core.frame.DataFrame'>\n",
      "RangeIndex: 13842 entries, 0 to 13841\n",
      "Data columns (total 16 columns):\n",
      " #   Column          Non-Null Count  Dtype \n",
      "---  ------          --------------  ----- \n",
      " 0   id              13842 non-null  int64 \n",
      " 1   Age             13842 non-null  int64 \n",
      " 2   Working_class   13842 non-null  object\n",
      " 3   fnlwgt          13842 non-null  int64 \n",
      " 4   education       13842 non-null  object\n",
      " 5   education_num   13842 non-null  int64 \n",
      " 6   marital_status  13842 non-null  object\n",
      " 7   Occupation      13842 non-null  object\n",
      " 8   relationship    13842 non-null  object\n",
      " 9   race            13842 non-null  object\n",
      " 10  gender          13842 non-null  object\n",
      " 11  capital_gain    13842 non-null  int64 \n",
      " 12  capital_loss    13842 non-null  int64 \n",
      " 13  hours_per_week  13842 non-null  int64 \n",
      " 14  native_country  13842 non-null  object\n",
      " 15  earning         13842 non-null  int64 \n",
      "dtypes: int64(8), object(8)\n",
      "memory usage: 1.7+ MB\n",
      "<class 'pandas.core.frame.DataFrame'>\n",
      "RangeIndex: 13840 entries, 0 to 13839\n",
      "Data columns (total 15 columns):\n",
      " #   Column          Non-Null Count  Dtype \n",
      "---  ------          --------------  ----- \n",
      " 0   id              13840 non-null  int64 \n",
      " 1   Age             13840 non-null  int64 \n",
      " 2   Working_class   13840 non-null  object\n",
      " 3   fnlwgt          13840 non-null  int64 \n",
      " 4   education       13840 non-null  object\n",
      " 5   education_num   13840 non-null  int64 \n",
      " 6   marital_status  13840 non-null  object\n",
      " 7   Occupation      13840 non-null  object\n",
      " 8   relationship    13840 non-null  object\n",
      " 9   race            13840 non-null  object\n",
      " 10  gender          13840 non-null  object\n",
      " 11  capital_gain    13840 non-null  int64 \n",
      " 12  capital_loss    13840 non-null  int64 \n",
      " 13  hours_per_week  13840 non-null  int64 \n",
      " 14  native_country  13840 non-null  object\n",
      "dtypes: int64(7), object(8)\n",
      "memory usage: 1.6+ MB\n"
     ]
    }
   ],
   "source": [
    "df_train.info()\n",
    "df_test.info()"
   ]
  },
  {
   "cell_type": "code",
   "execution_count": 8,
   "id": "8fe0e56b",
   "metadata": {
    "execution": {
     "iopub.execute_input": "2022-08-18T06:14:42.003365Z",
     "iopub.status.busy": "2022-08-18T06:14:42.002962Z",
     "iopub.status.idle": "2022-08-18T06:14:42.018478Z",
     "shell.execute_reply": "2022-08-18T06:14:42.017355Z"
    },
    "papermill": {
     "duration": 0.039374,
     "end_time": "2022-08-18T06:14:42.020889",
     "exception": false,
     "start_time": "2022-08-18T06:14:41.981515",
     "status": "completed"
    },
    "tags": []
   },
   "outputs": [
    {
     "data": {
      "text/plain": [
       "id                0\n",
       "Age               0\n",
       "Working_class     0\n",
       "fnlwgt            0\n",
       "education         0\n",
       "education_num     0\n",
       "marital_status    0\n",
       "Occupation        0\n",
       "relationship      0\n",
       "race              0\n",
       "gender            0\n",
       "capital_gain      0\n",
       "capital_loss      0\n",
       "hours_per_week    0\n",
       "native_country    0\n",
       "earning           0\n",
       "dtype: int64"
      ]
     },
     "execution_count": 8,
     "metadata": {},
     "output_type": "execute_result"
    }
   ],
   "source": [
    "df_train.isnull().sum()"
   ]
  },
  {
   "cell_type": "code",
   "execution_count": 9,
   "id": "a86d1695",
   "metadata": {
    "execution": {
     "iopub.execute_input": "2022-08-18T06:14:42.064303Z",
     "iopub.status.busy": "2022-08-18T06:14:42.063224Z",
     "iopub.status.idle": "2022-08-18T06:14:42.077776Z",
     "shell.execute_reply": "2022-08-18T06:14:42.076705Z"
    },
    "papermill": {
     "duration": 0.038856,
     "end_time": "2022-08-18T06:14:42.080092",
     "exception": false,
     "start_time": "2022-08-18T06:14:42.041236",
     "status": "completed"
    },
    "tags": []
   },
   "outputs": [
    {
     "data": {
      "text/plain": [
       "id                0\n",
       "Age               0\n",
       "Working_class     0\n",
       "fnlwgt            0\n",
       "education         0\n",
       "education_num     0\n",
       "marital_status    0\n",
       "Occupation        0\n",
       "relationship      0\n",
       "race              0\n",
       "gender            0\n",
       "capital_gain      0\n",
       "capital_loss      0\n",
       "hours_per_week    0\n",
       "native_country    0\n",
       "dtype: int64"
      ]
     },
     "execution_count": 9,
     "metadata": {},
     "output_type": "execute_result"
    }
   ],
   "source": [
    "df_test.isnull().sum()"
   ]
  },
  {
   "cell_type": "markdown",
   "id": "9d88bb59",
   "metadata": {
    "papermill": {
     "duration": 0.019443,
     "end_time": "2022-08-18T06:14:42.119607",
     "exception": false,
     "start_time": "2022-08-18T06:14:42.100164",
     "status": "completed"
    },
    "tags": []
   },
   "source": [
    "#### Because the null values are replaced by question mark and also I was not sure that in all the columns null values is being replaced by question mark. So, I used the value count function to see which columns have question mark as null values."
   ]
  },
  {
   "cell_type": "code",
   "execution_count": 10,
   "id": "dfcb376b",
   "metadata": {
    "execution": {
     "iopub.execute_input": "2022-08-18T06:14:42.161180Z",
     "iopub.status.busy": "2022-08-18T06:14:42.160748Z",
     "iopub.status.idle": "2022-08-18T06:14:42.170539Z",
     "shell.execute_reply": "2022-08-18T06:14:42.169561Z"
    },
    "papermill": {
     "duration": 0.033141,
     "end_time": "2022-08-18T06:14:42.172632",
     "exception": false,
     "start_time": "2022-08-18T06:14:42.139491",
     "status": "completed"
    },
    "tags": []
   },
   "outputs": [
    {
     "data": {
      "text/plain": [
       " Private             9386\n",
       " Self-emp-not-inc    1142\n",
       " Local-gov            950\n",
       " ?                    666\n",
       " Self-emp-inc         628\n",
       " State-gov            582\n",
       " Federal-gov          484\n",
       " Without-pay            4\n",
       "Name: Working_class, dtype: int64"
      ]
     },
     "execution_count": 10,
     "metadata": {},
     "output_type": "execute_result"
    }
   ],
   "source": [
    "df_train.Working_class.value_counts()\n",
    "# df_train.education.value_counts()\n",
    "# df_train.education_num.value_counts()\n",
    "# df_train.marital_status.value_counts()\n",
    "# df_train.Occupation.value_counts()\n",
    "# df_train.relationship.value_counts()\n",
    "# df_train.race.value_counts()\n",
    "# df_train.gender.value_counts()\n",
    "# df_train.capital_gain.value_counts()\n",
    "# df_train.capital_loss.value_counts()\n",
    "# df_train.hours_per_week.value_counts()\n",
    "# df_train.native_country.value_counts()\n",
    "# df_train.earning.value_counts()"
   ]
  },
  {
   "cell_type": "code",
   "execution_count": 11,
   "id": "56e4cb4e",
   "metadata": {
    "execution": {
     "iopub.execute_input": "2022-08-18T06:14:42.214327Z",
     "iopub.status.busy": "2022-08-18T06:14:42.213889Z",
     "iopub.status.idle": "2022-08-18T06:14:42.611265Z",
     "shell.execute_reply": "2022-08-18T06:14:42.609907Z"
    },
    "papermill": {
     "duration": 0.42075,
     "end_time": "2022-08-18T06:14:42.613483",
     "exception": false,
     "start_time": "2022-08-18T06:14:42.192733",
     "status": "completed"
    },
    "tags": []
   },
   "outputs": [
    {
     "data": {
      "text/plain": [
       "<AxesSubplot:>"
      ]
     },
     "execution_count": 11,
     "metadata": {},
     "output_type": "execute_result"
    },
    {
     "data": {
      "image/png": "[encoded data removed]",
      "text/plain": [
       "<Figure size 432x288 with 1 Axes>"
      ]
     },
     "metadata": {
      "needs_background": "light"
     },
     "output_type": "display_data"
    }
   ],
   "source": [
    "df_train.boxplot()"
   ]
  },
  {
   "cell_type": "code",
   "execution_count": 12,
   "id": "d1e53fda",
   "metadata": {
    "execution": {
     "iopub.execute_input": "2022-08-18T06:14:42.656234Z",
     "iopub.status.busy": "2022-08-18T06:14:42.655747Z",
     "iopub.status.idle": "2022-08-18T06:14:42.666402Z",
     "shell.execute_reply": "2022-08-18T06:14:42.665142Z"
    },
    "papermill": {
     "duration": 0.0352,
     "end_time": "2022-08-18T06:14:42.669076",
     "exception": false,
     "start_time": "2022-08-18T06:14:42.633876",
     "status": "completed"
    },
    "tags": []
   },
   "outputs": [],
   "source": [
    "df_train.native_country = df_train.native_country.replace([' ?'],' United-States')\n",
    "df_test.native_country = df_test.native_country.replace([' ?'],' United-States')\n",
    "# df.loc[df['native_country'] == \"?\",\"native_country\"] = \"United-States\""
   ]
  },
  {
   "cell_type": "code",
   "execution_count": 13,
   "id": "1f38b119",
   "metadata": {
    "execution": {
     "iopub.execute_input": "2022-08-18T06:14:42.712267Z",
     "iopub.status.busy": "2022-08-18T06:14:42.711861Z",
     "iopub.status.idle": "2022-08-18T06:14:42.721760Z",
     "shell.execute_reply": "2022-08-18T06:14:42.720593Z"
    },
    "papermill": {
     "duration": 0.034585,
     "end_time": "2022-08-18T06:14:42.724238",
     "exception": false,
     "start_time": "2022-08-18T06:14:42.689653",
     "status": "completed"
    },
    "tags": []
   },
   "outputs": [],
   "source": [
    "df_train.Working_class = df_train.Working_class.replace([' ?'],' Private')\n",
    "df_test.Working_class = df_test.Working_class.replace([' ?'],' Private')"
   ]
  },
  {
   "cell_type": "code",
   "execution_count": 14,
   "id": "34de3c51",
   "metadata": {
    "execution": {
     "iopub.execute_input": "2022-08-18T06:14:42.767745Z",
     "iopub.status.busy": "2022-08-18T06:14:42.767304Z",
     "iopub.status.idle": "2022-08-18T06:14:42.777324Z",
     "shell.execute_reply": "2022-08-18T06:14:42.776239Z"
    },
    "papermill": {
     "duration": 0.0346,
     "end_time": "2022-08-18T06:14:42.779694",
     "exception": false,
     "start_time": "2022-08-18T06:14:42.745094",
     "status": "completed"
    },
    "tags": []
   },
   "outputs": [],
   "source": [
    "df_train.Occupation = df_train.Occupation.replace([' ?'],' Prof-specialty')\n",
    "df_test.Occupation = df_test.Occupation.replace([' ?'],' Prof-specialty')"
   ]
  },
  {
   "cell_type": "code",
   "execution_count": 15,
   "id": "5d6f83d5",
   "metadata": {
    "execution": {
     "iopub.execute_input": "2022-08-18T06:14:42.823381Z",
     "iopub.status.busy": "2022-08-18T06:14:42.822945Z",
     "iopub.status.idle": "2022-08-18T06:14:42.836276Z",
     "shell.execute_reply": "2022-08-18T06:14:42.835049Z"
    },
    "papermill": {
     "duration": 0.038599,
     "end_time": "2022-08-18T06:14:42.838857",
     "exception": false,
     "start_time": "2022-08-18T06:14:42.800258",
     "status": "completed"
    },
    "tags": []
   },
   "outputs": [],
   "source": [
    "id = df_test['id']\n",
    "df_train = df_train.drop(['id','fnlwgt','education'], axis = 1)\n",
    "df_test = df_test.drop(['id','fnlwgt','education'], axis = 1)"
   ]
  },
  {
   "cell_type": "markdown",
   "id": "c51eba06",
   "metadata": {
    "papermill": {
     "duration": 0.020694,
     "end_time": "2022-08-18T06:14:42.880376",
     "exception": false,
     "start_time": "2022-08-18T06:14:42.859682",
     "status": "completed"
    },
    "tags": []
   },
   "source": [
    "### Label Encoding the categorical features by pandas dummies method"
   ]
  },
  {
   "cell_type": "markdown",
   "id": "dd859902",
   "metadata": {
    "papermill": {
     "duration": 0.020398,
     "end_time": "2022-08-18T06:14:42.922216",
     "exception": false,
     "start_time": "2022-08-18T06:14:42.901818",
     "status": "completed"
    },
    "tags": []
   },
   "source": [
    "#### I would prefer OHE here but to keep things simple done this way"
   ]
  },
  {
   "cell_type": "code",
   "execution_count": 16,
   "id": "78e48509",
   "metadata": {
    "execution": {
     "iopub.execute_input": "2022-08-18T06:14:42.966387Z",
     "iopub.status.busy": "2022-08-18T06:14:42.965744Z",
     "iopub.status.idle": "2022-08-18T06:14:43.023380Z",
     "shell.execute_reply": "2022-08-18T06:14:43.022220Z"
    },
    "papermill": {
     "duration": 0.082837,
     "end_time": "2022-08-18T06:14:43.026219",
     "exception": false,
     "start_time": "2022-08-18T06:14:42.943382",
     "status": "completed"
    },
    "tags": []
   },
   "outputs": [],
   "source": [
    "train_final = pd.get_dummies(df_train, drop_first = True)\n",
    "test_final = pd.get_dummies(df_test, drop_first = True)"
   ]
  },
  {
   "cell_type": "code",
   "execution_count": 17,
   "id": "77ff7f90",
   "metadata": {
    "execution": {
     "iopub.execute_input": "2022-08-18T06:14:43.069336Z",
     "iopub.status.busy": "2022-08-18T06:14:43.068505Z",
     "iopub.status.idle": "2022-08-18T06:14:43.076781Z",
     "shell.execute_reply": "2022-08-18T06:14:43.075619Z"
    },
    "papermill": {
     "duration": 0.032388,
     "end_time": "2022-08-18T06:14:43.079185",
     "exception": false,
     "start_time": "2022-08-18T06:14:43.046797",
     "status": "completed"
    },
    "tags": []
   },
   "outputs": [
    {
     "data": {
      "text/plain": [
       "Index(['Age', 'education_num', 'capital_gain', 'capital_loss',\n",
       "       'hours_per_week', 'earning', 'Working_class_ Local-gov',\n",
       "       'Working_class_ Private', 'Working_class_ Self-emp-inc',\n",
       "       'Working_class_ Self-emp-not-inc', 'Working_class_ State-gov',\n",
       "       'Working_class_ Without-pay', 'marital_status_ Married-AF-spouse',\n",
       "       'marital_status_ Married-civ-spouse',\n",
       "       'marital_status_ Married-spouse-absent',\n",
       "       'marital_status_ Never-married', 'marital_status_ Separated',\n",
       "       'marital_status_ Widowed', 'Occupation_ Armed-Forces',\n",
       "       'Occupation_ Craft-repair', 'Occupation_ Exec-managerial',\n",
       "       'Occupation_ Farming-fishing', 'Occupation_ Handlers-cleaners',\n",
       "       'Occupation_ Machine-op-inspct', 'Occupation_ Other-service',\n",
       "       'Occupation_ Priv-house-serv', 'Occupation_ Prof-specialty',\n",
       "       'Occupation_ Protective-serv', 'Occupation_ Sales',\n",
       "       'Occupation_ Tech-support', 'Occupation_ Transport-moving',\n",
       "       'relationship_ Not-in-family', 'relationship_ Other-relative',\n",
       "       'relationship_ Own-child', 'relationship_ Unmarried',\n",
       "       'relationship_ Wife', 'race_ Asian-Pac-Islander', 'race_ Black',\n",
       "       'race_ Other', 'race_ White', 'gender_ Male', 'native_country_ Canada',\n",
       "       'native_country_ China', 'native_country_ Columbia',\n",
       "       'native_country_ Cuba', 'native_country_ Dominican-Republic',\n",
       "       'native_country_ Ecuador', 'native_country_ El-Salvador',\n",
       "       'native_country_ England', 'native_country_ France',\n",
       "       'native_country_ Germany', 'native_country_ Greece',\n",
       "       'native_country_ Guatemala', 'native_country_ Haiti',\n",
       "       'native_country_ Honduras', 'native_country_ Hong',\n",
       "       'native_country_ Hungary', 'native_country_ India',\n",
       "       'native_country_ Iran', 'native_country_ Ireland',\n",
       "       'native_country_ Italy', 'native_country_ Jamaica',\n",
       "       'native_country_ Japan', 'native_country_ Laos',\n",
       "       'native_country_ Mexico', 'native_country_ Nicaragua',\n",
       "       'native_country_ Outlying-US(Guam-USVI-etc)', 'native_country_ Peru',\n",
       "       'native_country_ Philippines', 'native_country_ Poland',\n",
       "       'native_country_ Portugal', 'native_country_ Puerto-Rico',\n",
       "       'native_country_ Scotland', 'native_country_ South',\n",
       "       'native_country_ Taiwan', 'native_country_ Thailand',\n",
       "       'native_country_ Trinadad&Tobago', 'native_country_ United-States',\n",
       "       'native_country_ Vietnam', 'native_country_ Yugoslavia'],\n",
       "      dtype='object')"
      ]
     },
     "execution_count": 17,
     "metadata": {},
     "output_type": "execute_result"
    }
   ],
   "source": [
    "train_final.columns"
   ]
  },
  {
   "cell_type": "code",
   "execution_count": 18,
   "id": "c2aedb22",
   "metadata": {
    "execution": {
     "iopub.execute_input": "2022-08-18T06:14:43.122443Z",
     "iopub.status.busy": "2022-08-18T06:14:43.121724Z",
     "iopub.status.idle": "2022-08-18T06:14:43.131342Z",
     "shell.execute_reply": "2022-08-18T06:14:43.130255Z"
    },
    "papermill": {
     "duration": 0.033674,
     "end_time": "2022-08-18T06:14:43.133603",
     "exception": false,
     "start_time": "2022-08-18T06:14:43.099929",
     "status": "completed"
    },
    "tags": []
   },
   "outputs": [],
   "source": [
    "X = train_final.drop(['earning'], axis = 1)\n",
    "y = train_final.earning"
   ]
  },
  {
   "cell_type": "code",
   "execution_count": 19,
   "id": "1ae37e0c",
   "metadata": {
    "execution": {
     "iopub.execute_input": "2022-08-18T06:14:43.176954Z",
     "iopub.status.busy": "2022-08-18T06:14:43.175777Z",
     "iopub.status.idle": "2022-08-18T06:14:43.198891Z",
     "shell.execute_reply": "2022-08-18T06:14:43.198114Z"
    },
    "papermill": {
     "duration": 0.046946,
     "end_time": "2022-08-18T06:14:43.201119",
     "exception": false,
     "start_time": "2022-08-18T06:14:43.154173",
     "status": "completed"
    },
    "tags": []
   },
   "outputs": [
    {
     "data": {
      "text/html": [
       "<div>\n",
       "<style scoped>\n",
       "    .dataframe tbody tr th:only-of-type {\n",
       "        vertical-align: middle;\n",
       "    }\n",
       "\n",
       "    .dataframe tbody tr th {\n",
       "        vertical-align: top;\n",
       "    }\n",
       "\n",
       "    .dataframe thead th {\n",
       "        text-align: right;\n",
       "    }\n",
       "</style>\n",
       "<table border=\"1\" class=\"dataframe\">\n",
       "  <thead>\n",
       "    <tr style=\"text-align: right;\">\n",
       "      <th></th>\n",
       "      <th>Age</th>\n",
       "      <th>education_num</th>\n",
       "      <th>capital_gain</th>\n",
       "      <th>capital_loss</th>\n",
       "      <th>hours_per_week</th>\n",
       "      <th>Working_class_ Local-gov</th>\n",
       "      <th>Working_class_ Private</th>\n",
       "      <th>Working_class_ Self-emp-inc</th>\n",
       "      <th>Working_class_ Self-emp-not-inc</th>\n",
       "      <th>Working_class_ State-gov</th>\n",
       "      <th>...</th>\n",
       "      <th>native_country_ Portugal</th>\n",
       "      <th>native_country_ Puerto-Rico</th>\n",
       "      <th>native_country_ Scotland</th>\n",
       "      <th>native_country_ South</th>\n",
       "      <th>native_country_ Taiwan</th>\n",
       "      <th>native_country_ Thailand</th>\n",
       "      <th>native_country_ Trinadad&amp;Tobago</th>\n",
       "      <th>native_country_ United-States</th>\n",
       "      <th>native_country_ Vietnam</th>\n",
       "      <th>native_country_ Yugoslavia</th>\n",
       "    </tr>\n",
       "  </thead>\n",
       "  <tbody>\n",
       "    <tr>\n",
       "      <th>0</th>\n",
       "      <td>37</td>\n",
       "      <td>13</td>\n",
       "      <td>0</td>\n",
       "      <td>0</td>\n",
       "      <td>40</td>\n",
       "      <td>0</td>\n",
       "      <td>1</td>\n",
       "      <td>0</td>\n",
       "      <td>0</td>\n",
       "      <td>0</td>\n",
       "      <td>...</td>\n",
       "      <td>0</td>\n",
       "      <td>0</td>\n",
       "      <td>0</td>\n",
       "      <td>0</td>\n",
       "      <td>0</td>\n",
       "      <td>0</td>\n",
       "      <td>0</td>\n",
       "      <td>1</td>\n",
       "      <td>0</td>\n",
       "      <td>0</td>\n",
       "    </tr>\n",
       "    <tr>\n",
       "      <th>1</th>\n",
       "      <td>41</td>\n",
       "      <td>11</td>\n",
       "      <td>0</td>\n",
       "      <td>0</td>\n",
       "      <td>40</td>\n",
       "      <td>0</td>\n",
       "      <td>1</td>\n",
       "      <td>0</td>\n",
       "      <td>0</td>\n",
       "      <td>0</td>\n",
       "      <td>...</td>\n",
       "      <td>0</td>\n",
       "      <td>0</td>\n",
       "      <td>0</td>\n",
       "      <td>0</td>\n",
       "      <td>0</td>\n",
       "      <td>0</td>\n",
       "      <td>0</td>\n",
       "      <td>1</td>\n",
       "      <td>0</td>\n",
       "      <td>0</td>\n",
       "    </tr>\n",
       "    <tr>\n",
       "      <th>2</th>\n",
       "      <td>23</td>\n",
       "      <td>13</td>\n",
       "      <td>0</td>\n",
       "      <td>0</td>\n",
       "      <td>38</td>\n",
       "      <td>0</td>\n",
       "      <td>1</td>\n",
       "      <td>0</td>\n",
       "      <td>0</td>\n",
       "      <td>0</td>\n",
       "      <td>...</td>\n",
       "      <td>0</td>\n",
       "      <td>0</td>\n",
       "      <td>0</td>\n",
       "      <td>0</td>\n",
       "      <td>0</td>\n",
       "      <td>0</td>\n",
       "      <td>0</td>\n",
       "      <td>1</td>\n",
       "      <td>0</td>\n",
       "      <td>0</td>\n",
       "    </tr>\n",
       "    <tr>\n",
       "      <th>3</th>\n",
       "      <td>35</td>\n",
       "      <td>13</td>\n",
       "      <td>4650</td>\n",
       "      <td>0</td>\n",
       "      <td>40</td>\n",
       "      <td>0</td>\n",
       "      <td>1</td>\n",
       "      <td>0</td>\n",
       "      <td>0</td>\n",
       "      <td>0</td>\n",
       "      <td>...</td>\n",
       "      <td>0</td>\n",
       "      <td>0</td>\n",
       "      <td>0</td>\n",
       "      <td>0</td>\n",
       "      <td>0</td>\n",
       "      <td>0</td>\n",
       "      <td>0</td>\n",
       "      <td>1</td>\n",
       "      <td>0</td>\n",
       "      <td>0</td>\n",
       "    </tr>\n",
       "    <tr>\n",
       "      <th>4</th>\n",
       "      <td>28</td>\n",
       "      <td>9</td>\n",
       "      <td>0</td>\n",
       "      <td>0</td>\n",
       "      <td>40</td>\n",
       "      <td>0</td>\n",
       "      <td>1</td>\n",
       "      <td>0</td>\n",
       "      <td>0</td>\n",
       "      <td>0</td>\n",
       "      <td>...</td>\n",
       "      <td>0</td>\n",
       "      <td>0</td>\n",
       "      <td>0</td>\n",
       "      <td>0</td>\n",
       "      <td>0</td>\n",
       "      <td>0</td>\n",
       "      <td>0</td>\n",
       "      <td>1</td>\n",
       "      <td>0</td>\n",
       "      <td>0</td>\n",
       "    </tr>\n",
       "    <tr>\n",
       "      <th>...</th>\n",
       "      <td>...</td>\n",
       "      <td>...</td>\n",
       "      <td>...</td>\n",
       "      <td>...</td>\n",
       "      <td>...</td>\n",
       "      <td>...</td>\n",
       "      <td>...</td>\n",
       "      <td>...</td>\n",
       "      <td>...</td>\n",
       "      <td>...</td>\n",
       "      <td>...</td>\n",
       "      <td>...</td>\n",
       "      <td>...</td>\n",
       "      <td>...</td>\n",
       "      <td>...</td>\n",
       "      <td>...</td>\n",
       "      <td>...</td>\n",
       "      <td>...</td>\n",
       "      <td>...</td>\n",
       "      <td>...</td>\n",
       "      <td>...</td>\n",
       "    </tr>\n",
       "    <tr>\n",
       "      <th>13837</th>\n",
       "      <td>48</td>\n",
       "      <td>9</td>\n",
       "      <td>0</td>\n",
       "      <td>0</td>\n",
       "      <td>45</td>\n",
       "      <td>0</td>\n",
       "      <td>1</td>\n",
       "      <td>0</td>\n",
       "      <td>0</td>\n",
       "      <td>0</td>\n",
       "      <td>...</td>\n",
       "      <td>0</td>\n",
       "      <td>0</td>\n",
       "      <td>0</td>\n",
       "      <td>0</td>\n",
       "      <td>0</td>\n",
       "      <td>0</td>\n",
       "      <td>0</td>\n",
       "      <td>1</td>\n",
       "      <td>0</td>\n",
       "      <td>0</td>\n",
       "    </tr>\n",
       "    <tr>\n",
       "      <th>13838</th>\n",
       "      <td>37</td>\n",
       "      <td>15</td>\n",
       "      <td>0</td>\n",
       "      <td>0</td>\n",
       "      <td>60</td>\n",
       "      <td>0</td>\n",
       "      <td>0</td>\n",
       "      <td>0</td>\n",
       "      <td>0</td>\n",
       "      <td>1</td>\n",
       "      <td>...</td>\n",
       "      <td>0</td>\n",
       "      <td>0</td>\n",
       "      <td>0</td>\n",
       "      <td>0</td>\n",
       "      <td>0</td>\n",
       "      <td>0</td>\n",
       "      <td>0</td>\n",
       "      <td>1</td>\n",
       "      <td>0</td>\n",
       "      <td>0</td>\n",
       "    </tr>\n",
       "    <tr>\n",
       "      <th>13839</th>\n",
       "      <td>22</td>\n",
       "      <td>10</td>\n",
       "      <td>0</td>\n",
       "      <td>0</td>\n",
       "      <td>30</td>\n",
       "      <td>0</td>\n",
       "      <td>1</td>\n",
       "      <td>0</td>\n",
       "      <td>0</td>\n",
       "      <td>0</td>\n",
       "      <td>...</td>\n",
       "      <td>0</td>\n",
       "      <td>0</td>\n",
       "      <td>0</td>\n",
       "      <td>0</td>\n",
       "      <td>0</td>\n",
       "      <td>0</td>\n",
       "      <td>0</td>\n",
       "      <td>1</td>\n",
       "      <td>0</td>\n",
       "      <td>0</td>\n",
       "    </tr>\n",
       "    <tr>\n",
       "      <th>13840</th>\n",
       "      <td>43</td>\n",
       "      <td>13</td>\n",
       "      <td>0</td>\n",
       "      <td>0</td>\n",
       "      <td>60</td>\n",
       "      <td>0</td>\n",
       "      <td>0</td>\n",
       "      <td>1</td>\n",
       "      <td>0</td>\n",
       "      <td>0</td>\n",
       "      <td>...</td>\n",
       "      <td>0</td>\n",
       "      <td>0</td>\n",
       "      <td>0</td>\n",
       "      <td>0</td>\n",
       "      <td>0</td>\n",
       "      <td>0</td>\n",
       "      <td>0</td>\n",
       "      <td>1</td>\n",
       "      <td>0</td>\n",
       "      <td>0</td>\n",
       "    </tr>\n",
       "    <tr>\n",
       "      <th>13841</th>\n",
       "      <td>47</td>\n",
       "      <td>9</td>\n",
       "      <td>0</td>\n",
       "      <td>1504</td>\n",
       "      <td>35</td>\n",
       "      <td>0</td>\n",
       "      <td>1</td>\n",
       "      <td>0</td>\n",
       "      <td>0</td>\n",
       "      <td>0</td>\n",
       "      <td>...</td>\n",
       "      <td>0</td>\n",
       "      <td>0</td>\n",
       "      <td>0</td>\n",
       "      <td>0</td>\n",
       "      <td>0</td>\n",
       "      <td>0</td>\n",
       "      <td>0</td>\n",
       "      <td>1</td>\n",
       "      <td>0</td>\n",
       "      <td>0</td>\n",
       "    </tr>\n",
       "  </tbody>\n",
       "</table>\n",
       "<p>13842 rows × 79 columns</p>\n",
       "</div>"
      ],
      "text/plain": [
       "       Age  education_num  capital_gain  capital_loss  hours_per_week  \\\n",
       "0       37             13             0             0              40   \n",
       "1       41             11             0             0              40   \n",
       "2       23             13             0             0              38   \n",
       "3       35             13          4650             0              40   \n",
       "4       28              9             0             0              40   \n",
       "...    ...            ...           ...           ...             ...   \n",
       "13837   48              9             0             0              45   \n",
       "13838   37             15             0             0              60   \n",
       "13839   22             10             0             0              30   \n",
       "13840   43             13             0             0              60   \n",
       "13841   47              9             0          1504              35   \n",
       "\n",
       "       Working_class_ Local-gov  Working_class_ Private  \\\n",
       "0                             0                       1   \n",
       "1                             0                       1   \n",
       "2                             0                       1   \n",
       "3                             0                       1   \n",
       "4                             0                       1   \n",
       "...                         ...                     ...   \n",
       "13837                         0                       1   \n",
       "13838                         0                       0   \n",
       "13839                         0                       1   \n",
       "13840                         0                       0   \n",
       "13841                         0                       1   \n",
       "\n",
       "       Working_class_ Self-emp-inc  Working_class_ Self-emp-not-inc  \\\n",
       "0                                0                                0   \n",
       "1                                0                                0   \n",
       "2                                0                                0   \n",
       "3                                0                                0   \n",
       "4                                0                                0   \n",
       "...                            ...                              ...   \n",
       "13837                            0                                0   \n",
       "13838                            0                                0   \n",
       "13839                            0                                0   \n",
       "13840                            1                                0   \n",
       "13841                            0                                0   \n",
       "\n",
       "       Working_class_ State-gov  ...  native_country_ Portugal  \\\n",
       "0                             0  ...                         0   \n",
       "1                             0  ...                         0   \n",
       "2                             0  ...                         0   \n",
       "3                             0  ...                         0   \n",
       "4                             0  ...                         0   \n",
       "...                         ...  ...                       ...   \n",
       "13837                         0  ...                         0   \n",
       "13838                         1  ...                         0   \n",
       "13839                         0  ...                         0   \n",
       "13840                         0  ...                         0   \n",
       "13841                         0  ...                         0   \n",
       "\n",
       "       native_country_ Puerto-Rico  native_country_ Scotland  \\\n",
       "0                                0                         0   \n",
       "1                                0                         0   \n",
       "2                                0                         0   \n",
       "3                                0                         0   \n",
       "4                                0                         0   \n",
       "...                            ...                       ...   \n",
       "13837                            0                         0   \n",
       "13838                            0                         0   \n",
       "13839                            0                         0   \n",
       "13840                            0                         0   \n",
       "13841                            0                         0   \n",
       "\n",
       "       native_country_ South  native_country_ Taiwan  \\\n",
       "0                          0                       0   \n",
       "1                          0                       0   \n",
       "2                          0                       0   \n",
       "3                          0                       0   \n",
       "4                          0                       0   \n",
       "...                      ...                     ...   \n",
       "13837                      0                       0   \n",
       "13838                      0                       0   \n",
       "13839                      0                       0   \n",
       "13840                      0                       0   \n",
       "13841                      0                       0   \n",
       "\n",
       "       native_country_ Thailand  native_country_ Trinadad&Tobago  \\\n",
       "0                             0                                0   \n",
       "1                             0                                0   \n",
       "2                             0                                0   \n",
       "3                             0                                0   \n",
       "4                             0                                0   \n",
       "...                         ...                              ...   \n",
       "13837                         0                                0   \n",
       "13838                         0                                0   \n",
       "13839                         0                                0   \n",
       "13840                         0                                0   \n",
       "13841                         0                                0   \n",
       "\n",
       "       native_country_ United-States  native_country_ Vietnam  \\\n",
       "0                                  1                        0   \n",
       "1                                  1                        0   \n",
       "2                                  1                        0   \n",
       "3                                  1                        0   \n",
       "4                                  1                        0   \n",
       "...                              ...                      ...   \n",
       "13837                              1                        0   \n",
       "13838                              1                        0   \n",
       "13839                              1                        0   \n",
       "13840                              1                        0   \n",
       "13841                              1                        0   \n",
       "\n",
       "       native_country_ Yugoslavia  \n",
       "0                               0  \n",
       "1                               0  \n",
       "2                               0  \n",
       "3                               0  \n",
       "4                               0  \n",
       "...                           ...  \n",
       "13837                           0  \n",
       "13838                           0  \n",
       "13839                           0  \n",
       "13840                           0  \n",
       "13841                           0  \n",
       "\n",
       "[13842 rows x 79 columns]"
      ]
     },
     "execution_count": 19,
     "metadata": {},
     "output_type": "execute_result"
    }
   ],
   "source": [
    "X"
   ]
  },
  {
   "cell_type": "code",
   "execution_count": 20,
   "id": "d2653b95",
   "metadata": {
    "execution": {
     "iopub.execute_input": "2022-08-18T06:14:43.245610Z",
     "iopub.status.busy": "2022-08-18T06:14:43.245172Z",
     "iopub.status.idle": "2022-08-18T06:14:43.252625Z",
     "shell.execute_reply": "2022-08-18T06:14:43.251839Z"
    },
    "papermill": {
     "duration": 0.03216,
     "end_time": "2022-08-18T06:14:43.254618",
     "exception": false,
     "start_time": "2022-08-18T06:14:43.222458",
     "status": "completed"
    },
    "tags": []
   },
   "outputs": [
    {
     "data": {
      "text/plain": [
       "0        0\n",
       "1        1\n",
       "2        1\n",
       "3        1\n",
       "4        1\n",
       "        ..\n",
       "13837    1\n",
       "13838    0\n",
       "13839    1\n",
       "13840    0\n",
       "13841    1\n",
       "Name: earning, Length: 13842, dtype: int64"
      ]
     },
     "execution_count": 20,
     "metadata": {},
     "output_type": "execute_result"
    }
   ],
   "source": [
    "y"
   ]
  },
  {
   "cell_type": "code",
   "execution_count": 21,
   "id": "40588327",
   "metadata": {
    "execution": {
     "iopub.execute_input": "2022-08-18T06:14:43.300057Z",
     "iopub.status.busy": "2022-08-18T06:14:43.299329Z",
     "iopub.status.idle": "2022-08-18T06:14:43.327286Z",
     "shell.execute_reply": "2022-08-18T06:14:43.326416Z"
    },
    "papermill": {
     "duration": 0.053008,
     "end_time": "2022-08-18T06:14:43.329477",
     "exception": false,
     "start_time": "2022-08-18T06:14:43.276469",
     "status": "completed"
    },
    "tags": []
   },
   "outputs": [
    {
     "data": {
      "text/html": [
       "<div>\n",
       "<style scoped>\n",
       "    .dataframe tbody tr th:only-of-type {\n",
       "        vertical-align: middle;\n",
       "    }\n",
       "\n",
       "    .dataframe tbody tr th {\n",
       "        vertical-align: top;\n",
       "    }\n",
       "\n",
       "    .dataframe thead th {\n",
       "        text-align: right;\n",
       "    }\n",
       "</style>\n",
       "<table border=\"1\" class=\"dataframe\">\n",
       "  <thead>\n",
       "    <tr style=\"text-align: right;\">\n",
       "      <th></th>\n",
       "      <th>Age</th>\n",
       "      <th>education_num</th>\n",
       "      <th>capital_gain</th>\n",
       "      <th>capital_loss</th>\n",
       "      <th>hours_per_week</th>\n",
       "      <th>Working_class_ Local-gov</th>\n",
       "      <th>Working_class_ Private</th>\n",
       "      <th>Working_class_ Self-emp-inc</th>\n",
       "      <th>Working_class_ Self-emp-not-inc</th>\n",
       "      <th>Working_class_ State-gov</th>\n",
       "      <th>...</th>\n",
       "      <th>native_country_ Portugal</th>\n",
       "      <th>native_country_ Puerto-Rico</th>\n",
       "      <th>native_country_ Scotland</th>\n",
       "      <th>native_country_ South</th>\n",
       "      <th>native_country_ Taiwan</th>\n",
       "      <th>native_country_ Thailand</th>\n",
       "      <th>native_country_ Trinadad&amp;Tobago</th>\n",
       "      <th>native_country_ United-States</th>\n",
       "      <th>native_country_ Vietnam</th>\n",
       "      <th>native_country_ Yugoslavia</th>\n",
       "    </tr>\n",
       "  </thead>\n",
       "  <tbody>\n",
       "    <tr>\n",
       "      <th>852</th>\n",
       "      <td>31</td>\n",
       "      <td>4</td>\n",
       "      <td>0</td>\n",
       "      <td>0</td>\n",
       "      <td>50</td>\n",
       "      <td>0</td>\n",
       "      <td>1</td>\n",
       "      <td>0</td>\n",
       "      <td>0</td>\n",
       "      <td>0</td>\n",
       "      <td>...</td>\n",
       "      <td>0</td>\n",
       "      <td>0</td>\n",
       "      <td>0</td>\n",
       "      <td>0</td>\n",
       "      <td>0</td>\n",
       "      <td>0</td>\n",
       "      <td>0</td>\n",
       "      <td>1</td>\n",
       "      <td>0</td>\n",
       "      <td>0</td>\n",
       "    </tr>\n",
       "    <tr>\n",
       "      <th>1494</th>\n",
       "      <td>35</td>\n",
       "      <td>14</td>\n",
       "      <td>0</td>\n",
       "      <td>0</td>\n",
       "      <td>45</td>\n",
       "      <td>0</td>\n",
       "      <td>1</td>\n",
       "      <td>0</td>\n",
       "      <td>0</td>\n",
       "      <td>0</td>\n",
       "      <td>...</td>\n",
       "      <td>0</td>\n",
       "      <td>0</td>\n",
       "      <td>0</td>\n",
       "      <td>0</td>\n",
       "      <td>0</td>\n",
       "      <td>0</td>\n",
       "      <td>0</td>\n",
       "      <td>1</td>\n",
       "      <td>0</td>\n",
       "      <td>0</td>\n",
       "    </tr>\n",
       "    <tr>\n",
       "      <th>4527</th>\n",
       "      <td>54</td>\n",
       "      <td>14</td>\n",
       "      <td>0</td>\n",
       "      <td>0</td>\n",
       "      <td>50</td>\n",
       "      <td>0</td>\n",
       "      <td>0</td>\n",
       "      <td>0</td>\n",
       "      <td>1</td>\n",
       "      <td>0</td>\n",
       "      <td>...</td>\n",
       "      <td>0</td>\n",
       "      <td>0</td>\n",
       "      <td>0</td>\n",
       "      <td>0</td>\n",
       "      <td>0</td>\n",
       "      <td>0</td>\n",
       "      <td>0</td>\n",
       "      <td>1</td>\n",
       "      <td>0</td>\n",
       "      <td>0</td>\n",
       "    </tr>\n",
       "    <tr>\n",
       "      <th>9621</th>\n",
       "      <td>23</td>\n",
       "      <td>13</td>\n",
       "      <td>0</td>\n",
       "      <td>0</td>\n",
       "      <td>40</td>\n",
       "      <td>0</td>\n",
       "      <td>1</td>\n",
       "      <td>0</td>\n",
       "      <td>0</td>\n",
       "      <td>0</td>\n",
       "      <td>...</td>\n",
       "      <td>0</td>\n",
       "      <td>0</td>\n",
       "      <td>0</td>\n",
       "      <td>0</td>\n",
       "      <td>0</td>\n",
       "      <td>0</td>\n",
       "      <td>0</td>\n",
       "      <td>1</td>\n",
       "      <td>0</td>\n",
       "      <td>0</td>\n",
       "    </tr>\n",
       "    <tr>\n",
       "      <th>2464</th>\n",
       "      <td>24</td>\n",
       "      <td>9</td>\n",
       "      <td>0</td>\n",
       "      <td>0</td>\n",
       "      <td>25</td>\n",
       "      <td>0</td>\n",
       "      <td>1</td>\n",
       "      <td>0</td>\n",
       "      <td>0</td>\n",
       "      <td>0</td>\n",
       "      <td>...</td>\n",
       "      <td>0</td>\n",
       "      <td>0</td>\n",
       "      <td>0</td>\n",
       "      <td>0</td>\n",
       "      <td>0</td>\n",
       "      <td>0</td>\n",
       "      <td>0</td>\n",
       "      <td>1</td>\n",
       "      <td>0</td>\n",
       "      <td>0</td>\n",
       "    </tr>\n",
       "  </tbody>\n",
       "</table>\n",
       "<p>5 rows × 79 columns</p>\n",
       "</div>"
      ],
      "text/plain": [
       "      Age  education_num  capital_gain  capital_loss  hours_per_week  \\\n",
       "852    31              4             0             0              50   \n",
       "1494   35             14             0             0              45   \n",
       "4527   54             14             0             0              50   \n",
       "9621   23             13             0             0              40   \n",
       "2464   24              9             0             0              25   \n",
       "\n",
       "      Working_class_ Local-gov  Working_class_ Private  \\\n",
       "852                          0                       1   \n",
       "1494                         0                       1   \n",
       "4527                         0                       0   \n",
       "9621                         0                       1   \n",
       "2464                         0                       1   \n",
       "\n",
       "      Working_class_ Self-emp-inc  Working_class_ Self-emp-not-inc  \\\n",
       "852                             0                                0   \n",
       "1494                            0                                0   \n",
       "4527                            0                                1   \n",
       "9621                            0                                0   \n",
       "2464                            0                                0   \n",
       "\n",
       "      Working_class_ State-gov  ...  native_country_ Portugal  \\\n",
       "852                          0  ...                         0   \n",
       "1494                         0  ...                         0   \n",
       "4527                         0  ...                         0   \n",
       "9621                         0  ...                         0   \n",
       "2464                         0  ...                         0   \n",
       "\n",
       "      native_country_ Puerto-Rico  native_country_ Scotland  \\\n",
       "852                             0                         0   \n",
       "1494                            0                         0   \n",
       "4527                            0                         0   \n",
       "9621                            0                         0   \n",
       "2464                            0                         0   \n",
       "\n",
       "      native_country_ South  native_country_ Taiwan  native_country_ Thailand  \\\n",
       "852                       0                       0                         0   \n",
       "1494                      0                       0                         0   \n",
       "4527                      0                       0                         0   \n",
       "9621                      0                       0                         0   \n",
       "2464                      0                       0                         0   \n",
       "\n",
       "      native_country_ Trinadad&Tobago  native_country_ United-States  \\\n",
       "852                                 0                              1   \n",
       "1494                                0                              1   \n",
       "4527                                0                              1   \n",
       "9621                                0                              1   \n",
       "2464                                0                              1   \n",
       "\n",
       "      native_country_ Vietnam  native_country_ Yugoslavia  \n",
       "852                         0                           0  \n",
       "1494                        0                           0  \n",
       "4527                        0                           0  \n",
       "9621                        0                           0  \n",
       "2464                        0                           0  \n",
       "\n",
       "[5 rows x 79 columns]"
      ]
     },
     "execution_count": 21,
     "metadata": {},
     "output_type": "execute_result"
    }
   ],
   "source": [
    "from sklearn.model_selection import train_test_split\n",
    "X_train, X_test, y_train, y_test = train_test_split(X,y, test_size = 0.25,random_state = 42)\n",
    "X_train.head(5)"
   ]
  },
  {
   "cell_type": "markdown",
   "id": "fe8f9318",
   "metadata": {
    "papermill": {
     "duration": 0.021116,
     "end_time": "2022-08-18T06:14:43.372514",
     "exception": false,
     "start_time": "2022-08-18T06:14:43.351398",
     "status": "completed"
    },
    "tags": []
   },
   "source": [
    "# Logistic Regression"
   ]
  },
  {
   "cell_type": "code",
   "execution_count": 22,
   "id": "6f341448",
   "metadata": {
    "execution": {
     "iopub.execute_input": "2022-08-18T06:14:43.417239Z",
     "iopub.status.busy": "2022-08-18T06:14:43.416572Z",
     "iopub.status.idle": "2022-08-18T06:14:48.808577Z",
     "shell.execute_reply": "2022-08-18T06:14:48.805478Z"
    },
    "papermill": {
     "duration": 5.420202,
     "end_time": "2022-08-18T06:14:48.814076",
     "exception": false,
     "start_time": "2022-08-18T06:14:43.393874",
     "status": "completed"
    },
    "tags": []
   },
   "outputs": [
    {
     "name": "stdout",
     "output_type": "stream",
     "text": [
      "              precision    recall  f1-score   support\n",
      "\n",
      "           0       0.73      0.83      0.77      1456\n",
      "           1       0.86      0.78      0.82      2005\n",
      "\n",
      "    accuracy                           0.80      3461\n",
      "   macro avg       0.80      0.80      0.80      3461\n",
      "weighted avg       0.81      0.80      0.80      3461\n",
      "\n"
     ]
    }
   ],
   "source": [
    "from sklearn.linear_model import LogisticRegression\n",
    "lr = LogisticRegression(solver='lbfgs',class_weight='balanced',max_iter=10000)\n",
    "lr.fit(X_train,y_train)\n",
    "pred = lr.predict(X_test)\n",
    "print(classification_report(y_test, pred))"
   ]
  },
  {
   "cell_type": "markdown",
   "id": "0028f8ba",
   "metadata": {
    "papermill": {
     "duration": 0.041113,
     "end_time": "2022-08-18T06:14:48.913749",
     "exception": false,
     "start_time": "2022-08-18T06:14:48.872636",
     "status": "completed"
    },
    "tags": []
   },
   "source": [
    "# SVM "
   ]
  },
  {
   "cell_type": "code",
   "execution_count": 23,
   "id": "f65a7d32",
   "metadata": {
    "execution": {
     "iopub.execute_input": "2022-08-18T06:14:48.979701Z",
     "iopub.status.busy": "2022-08-18T06:14:48.979202Z",
     "iopub.status.idle": "2022-08-18T06:15:01.453211Z",
     "shell.execute_reply": "2022-08-18T06:15:01.451371Z"
    },
    "papermill": {
     "duration": 12.510474,
     "end_time": "2022-08-18T06:15:01.457425",
     "exception": false,
     "start_time": "2022-08-18T06:14:48.946951",
     "status": "completed"
    },
    "tags": []
   },
   "outputs": [
    {
     "name": "stdout",
     "output_type": "stream",
     "text": [
      "              precision    recall  f1-score   support\n",
      "\n",
      "           0       0.87      0.28      0.42      1456\n",
      "           1       0.65      0.97      0.78      2005\n",
      "\n",
      "    accuracy                           0.68      3461\n",
      "   macro avg       0.76      0.63      0.60      3461\n",
      "weighted avg       0.74      0.68      0.63      3461\n",
      "\n"
     ]
    }
   ],
   "source": [
    "from sklearn.svm import SVC\n",
    "svm = SVC()\n",
    "svm.fit(X_train,y_train)\n",
    "pred = svm.predict(X_test)\n",
    "print(classification_report(y_test, pred))"
   ]
  },
  {
   "cell_type": "markdown",
   "id": "f814403c",
   "metadata": {
    "papermill": {
     "duration": 0.021626,
     "end_time": "2022-08-18T06:15:01.501901",
     "exception": false,
     "start_time": "2022-08-18T06:15:01.480275",
     "status": "completed"
    },
    "tags": []
   },
   "source": [
    "# SVM Hyperparameter Tuning using GridSearchCV"
   ]
  },
  {
   "cell_type": "code",
   "execution_count": 24,
   "id": "7e4a82ee",
   "metadata": {
    "execution": {
     "iopub.execute_input": "2022-08-18T06:15:01.548357Z",
     "iopub.status.busy": "2022-08-18T06:15:01.547321Z",
     "iopub.status.idle": "2022-08-18T06:15:01.552201Z",
     "shell.execute_reply": "2022-08-18T06:15:01.551117Z"
    },
    "papermill": {
     "duration": 0.030547,
     "end_time": "2022-08-18T06:15:01.554558",
     "exception": false,
     "start_time": "2022-08-18T06:15:01.524011",
     "status": "completed"
    },
    "tags": []
   },
   "outputs": [],
   "source": [
    "# from sklearn.model_selection import GridSearchCV\n",
    "# clf = GridSearchCV(SVC(gamma='auto'), {\n",
    "#     'C': [1,10],\n",
    "#     'kernel': ['rbf','linear']\n",
    "# }, cv=2, return_train_score=False)\n",
    "# clf.fit(X_train, y_train)\n",
    "# pred = clf.predict(X_test)\n",
    "# print(classification_report(y_test, pred))"
   ]
  },
  {
   "cell_type": "code",
   "execution_count": 25,
   "id": "14036230",
   "metadata": {
    "execution": {
     "iopub.execute_input": "2022-08-18T06:15:01.601065Z",
     "iopub.status.busy": "2022-08-18T06:15:01.600273Z",
     "iopub.status.idle": "2022-08-18T06:15:01.605095Z",
     "shell.execute_reply": "2022-08-18T06:15:01.604052Z"
    },
    "papermill": {
     "duration": 0.031109,
     "end_time": "2022-08-18T06:15:01.607606",
     "exception": false,
     "start_time": "2022-08-18T06:15:01.576497",
     "status": "completed"
    },
    "tags": []
   },
   "outputs": [],
   "source": [
    "# clf.best_score_"
   ]
  },
  {
   "cell_type": "code",
   "execution_count": 26,
   "id": "2960b8d7",
   "metadata": {
    "execution": {
     "iopub.execute_input": "2022-08-18T06:15:01.654527Z",
     "iopub.status.busy": "2022-08-18T06:15:01.653789Z",
     "iopub.status.idle": "2022-08-18T06:15:01.657957Z",
     "shell.execute_reply": "2022-08-18T06:15:01.657054Z"
    },
    "papermill": {
     "duration": 0.030888,
     "end_time": "2022-08-18T06:15:01.660343",
     "exception": false,
     "start_time": "2022-08-18T06:15:01.629455",
     "status": "completed"
    },
    "tags": []
   },
   "outputs": [],
   "source": [
    "# clf.best_params_"
   ]
  },
  {
   "cell_type": "markdown",
   "id": "6e5cf9fc",
   "metadata": {
    "papermill": {
     "duration": 0.021435,
     "end_time": "2022-08-18T06:15:01.703627",
     "exception": false,
     "start_time": "2022-08-18T06:15:01.682192",
     "status": "completed"
    },
    "tags": []
   },
   "source": [
    "# Random Forest Classifier"
   ]
  },
  {
   "cell_type": "code",
   "execution_count": 27,
   "id": "8534278e",
   "metadata": {
    "execution": {
     "iopub.execute_input": "2022-08-18T06:15:01.749077Z",
     "iopub.status.busy": "2022-08-18T06:15:01.748663Z",
     "iopub.status.idle": "2022-08-18T06:15:02.540119Z",
     "shell.execute_reply": "2022-08-18T06:15:02.538809Z"
    },
    "papermill": {
     "duration": 0.818123,
     "end_time": "2022-08-18T06:15:02.543599",
     "exception": false,
     "start_time": "2022-08-18T06:15:01.725476",
     "status": "completed"
    },
    "tags": []
   },
   "outputs": [
    {
     "name": "stdout",
     "output_type": "stream",
     "text": [
      "              precision    recall  f1-score   support\n",
      "\n",
      "           0       0.76      0.76      0.76      1456\n",
      "           1       0.82      0.82      0.82      2005\n",
      "\n",
      "    accuracy                           0.79      3461\n",
      "   macro avg       0.79      0.79      0.79      3461\n",
      "weighted avg       0.79      0.79      0.79      3461\n",
      "\n"
     ]
    }
   ],
   "source": [
    "from sklearn.ensemble import RandomForestClassifier\n",
    "rf = RandomForestClassifier(n_estimators = 40)\n",
    "rf.fit(X_train,y_train)\n",
    "pred = rf.predict(X_test)\n",
    "print(classification_report(y_test, pred))"
   ]
  },
  {
   "cell_type": "markdown",
   "id": "57d0223b",
   "metadata": {
    "papermill": {
     "duration": 0.021623,
     "end_time": "2022-08-18T06:15:02.587264",
     "exception": false,
     "start_time": "2022-08-18T06:15:02.565641",
     "status": "completed"
    },
    "tags": []
   },
   "source": [
    "# Decision Tree Classifier"
   ]
  },
  {
   "cell_type": "code",
   "execution_count": 28,
   "id": "0efd1945",
   "metadata": {
    "execution": {
     "iopub.execute_input": "2022-08-18T06:15:02.632748Z",
     "iopub.status.busy": "2022-08-18T06:15:02.632354Z",
     "iopub.status.idle": "2022-08-18T06:15:02.733343Z",
     "shell.execute_reply": "2022-08-18T06:15:02.731571Z"
    },
    "papermill": {
     "duration": 0.128143,
     "end_time": "2022-08-18T06:15:02.737260",
     "exception": false,
     "start_time": "2022-08-18T06:15:02.609117",
     "status": "completed"
    },
    "tags": []
   },
   "outputs": [
    {
     "name": "stdout",
     "output_type": "stream",
     "text": [
      "              precision    recall  f1-score   support\n",
      "\n",
      "           0       0.72      0.75      0.74      1456\n",
      "           1       0.82      0.79      0.80      2005\n",
      "\n",
      "    accuracy                           0.78      3461\n",
      "   macro avg       0.77      0.77      0.77      3461\n",
      "weighted avg       0.78      0.78      0.78      3461\n",
      "\n"
     ]
    }
   ],
   "source": [
    "from sklearn import tree\n",
    "dt = tree.DecisionTreeClassifier()\n",
    "dt.fit(X_train,y_train)\n",
    "pred = dt.predict(X_test)\n",
    "print(classification_report(y_test, pred))"
   ]
  },
  {
   "cell_type": "markdown",
   "id": "627b1ac4",
   "metadata": {
    "papermill": {
     "duration": 0.021776,
     "end_time": "2022-08-18T06:15:02.781640",
     "exception": false,
     "start_time": "2022-08-18T06:15:02.759864",
     "status": "completed"
    },
    "tags": []
   },
   "source": [
    "# Multinomial Naive Bayes"
   ]
  },
  {
   "cell_type": "code",
   "execution_count": 29,
   "id": "cf2d7dcb",
   "metadata": {
    "execution": {
     "iopub.execute_input": "2022-08-18T06:15:02.829480Z",
     "iopub.status.busy": "2022-08-18T06:15:02.829033Z",
     "iopub.status.idle": "2022-08-18T06:15:02.879001Z",
     "shell.execute_reply": "2022-08-18T06:15:02.877116Z"
    },
    "papermill": {
     "duration": 0.080563,
     "end_time": "2022-08-18T06:15:02.885981",
     "exception": false,
     "start_time": "2022-08-18T06:15:02.805418",
     "status": "completed"
    },
    "tags": []
   },
   "outputs": [
    {
     "name": "stdout",
     "output_type": "stream",
     "text": [
      "              precision    recall  f1-score   support\n",
      "\n",
      "           0       0.81      0.21      0.34      1456\n",
      "           1       0.63      0.96      0.76      2005\n",
      "\n",
      "    accuracy                           0.65      3461\n",
      "   macro avg       0.72      0.59      0.55      3461\n",
      "weighted avg       0.70      0.65      0.58      3461\n",
      "\n"
     ]
    }
   ],
   "source": [
    "from sklearn.naive_bayes import MultinomialNB\n",
    "mnb = MultinomialNB().fit(X_train, y_train)\n",
    "pred = mnb.predict(X_test)\n",
    "print(classification_report(y_test, pred))"
   ]
  },
  {
   "cell_type": "markdown",
   "id": "7b4a4cbe",
   "metadata": {
    "papermill": {
     "duration": 0.040821,
     "end_time": "2022-08-18T06:15:02.984413",
     "exception": false,
     "start_time": "2022-08-18T06:15:02.943592",
     "status": "completed"
    },
    "tags": []
   },
   "source": [
    "## Enhancing the performance measures by Voting Classifier"
   ]
  },
  {
   "cell_type": "code",
   "execution_count": 30,
   "id": "e9a2bbf6",
   "metadata": {
    "execution": {
     "iopub.execute_input": "2022-08-18T06:15:03.030510Z",
     "iopub.status.busy": "2022-08-18T06:15:03.030055Z",
     "iopub.status.idle": "2022-08-18T06:15:21.072593Z",
     "shell.execute_reply": "2022-08-18T06:15:21.070919Z"
    },
    "papermill": {
     "duration": 18.071008,
     "end_time": "2022-08-18T06:15:21.077445",
     "exception": false,
     "start_time": "2022-08-18T06:15:03.006437",
     "status": "completed"
    },
    "tags": []
   },
   "outputs": [
    {
     "name": "stdout",
     "output_type": "stream",
     "text": [
      "              precision    recall  f1-score   support\n",
      "\n",
      "           0       0.77      0.74      0.75      1456\n",
      "           1       0.82      0.84      0.83      2005\n",
      "\n",
      "    accuracy                           0.80      3461\n",
      "   macro avg       0.79      0.79      0.79      3461\n",
      "weighted avg       0.80      0.80      0.80      3461\n",
      "\n"
     ]
    }
   ],
   "source": [
    "from sklearn.ensemble import VotingClassifier\n",
    "evc=VotingClassifier(estimators=[('mnb',mnb),('lr',lr),('rf',rf),('svm',svm)],voting='hard')\n",
    "evc.fit(X_train, y_train)\n",
    "pred = evc.predict(X_test)\n",
    "print(classification_report(y_test, pred))"
   ]
  },
  {
   "cell_type": "markdown",
   "id": "89b9fac8",
   "metadata": {
    "papermill": {
     "duration": 0.034906,
     "end_time": "2022-08-18T06:15:21.140035",
     "exception": false,
     "start_time": "2022-08-18T06:15:21.105129",
     "status": "completed"
    },
    "tags": []
   },
   "source": [
    "#### We can apply model stacking also to improve the score. It is a very effective method but not helping with this dataset. I'll try this out in further competitions."
   ]
  },
  {
   "cell_type": "markdown",
   "id": "6faa3f90",
   "metadata": {
    "papermill": {
     "duration": 0.026876,
     "end_time": "2022-08-18T06:15:21.193804",
     "exception": false,
     "start_time": "2022-08-18T06:15:21.166928",
     "status": "completed"
    },
    "tags": []
   },
   "source": [
    "# Ensemble Learning -bagging"
   ]
  },
  {
   "cell_type": "code",
   "execution_count": 31,
   "id": "554ee578",
   "metadata": {
    "execution": {
     "iopub.execute_input": "2022-08-18T06:15:21.243062Z",
     "iopub.status.busy": "2022-08-18T06:15:21.242510Z",
     "iopub.status.idle": "2022-08-18T06:15:21.248300Z",
     "shell.execute_reply": "2022-08-18T06:15:21.246927Z"
    },
    "papermill": {
     "duration": 0.033377,
     "end_time": "2022-08-18T06:15:21.250797",
     "exception": false,
     "start_time": "2022-08-18T06:15:21.217420",
     "status": "completed"
    },
    "tags": []
   },
   "outputs": [],
   "source": [
    "# from sklearn.preprocessing import StandardScaler\n",
    "\n",
    "# scaler = StandardScaler()\n",
    "# X_scaled = scaler.fit_transform(X)\n",
    "# test_final = scaler.fit_transform(test_final)"
   ]
  },
  {
   "cell_type": "code",
   "execution_count": 32,
   "id": "3f1a9516",
   "metadata": {
    "execution": {
     "iopub.execute_input": "2022-08-18T06:15:21.303789Z",
     "iopub.status.busy": "2022-08-18T06:15:21.302993Z",
     "iopub.status.idle": "2022-08-18T06:15:21.308051Z",
     "shell.execute_reply": "2022-08-18T06:15:21.307183Z"
    },
    "papermill": {
     "duration": 0.036664,
     "end_time": "2022-08-18T06:15:21.310478",
     "exception": false,
     "start_time": "2022-08-18T06:15:21.273814",
     "status": "completed"
    },
    "tags": []
   },
   "outputs": [],
   "source": [
    "# from sklearn.ensemble import BaggingClassifier\n",
    "\n",
    "# bag_model = BaggingClassifier(\n",
    "#     base_estimator=RandomForestClassifier(), \n",
    "#     n_estimators=100, \n",
    "#     max_samples=0.8, \n",
    "#     oob_score=True,\n",
    "#     random_state=0\n",
    "# )\n",
    "# bag_model.fit(X_train, y_train)\n",
    "# bag_model.oob_score_"
   ]
  },
  {
   "cell_type": "code",
   "execution_count": 33,
   "id": "20522c4f",
   "metadata": {
    "execution": {
     "iopub.execute_input": "2022-08-18T06:15:21.357793Z",
     "iopub.status.busy": "2022-08-18T06:15:21.356987Z",
     "iopub.status.idle": "2022-08-18T06:15:21.361960Z",
     "shell.execute_reply": "2022-08-18T06:15:21.361162Z"
    },
    "papermill": {
     "duration": 0.031448,
     "end_time": "2022-08-18T06:15:21.364420",
     "exception": false,
     "start_time": "2022-08-18T06:15:21.332972",
     "status": "completed"
    },
    "tags": []
   },
   "outputs": [],
   "source": [
    "# bag_model = BaggingClassifier(\n",
    "#     base_estimator=LogisticRegression(solver='lbfgs',class_weight='balanced',max_iter=10000), \n",
    "#     n_estimators=100, \n",
    "#     max_samples=0.8, \n",
    "#     oob_score=True,\n",
    "#     random_state=0\n",
    "# )\n",
    "# bag_model.fit(X_train, y_train)\n",
    "# bag_model.oob_score_"
   ]
  },
  {
   "cell_type": "code",
   "execution_count": 34,
   "id": "b7eea9ed",
   "metadata": {
    "execution": {
     "iopub.execute_input": "2022-08-18T06:15:21.412152Z",
     "iopub.status.busy": "2022-08-18T06:15:21.411575Z",
     "iopub.status.idle": "2022-08-18T06:15:21.416797Z",
     "shell.execute_reply": "2022-08-18T06:15:21.415771Z"
    },
    "papermill": {
     "duration": 0.040447,
     "end_time": "2022-08-18T06:15:21.427398",
     "exception": false,
     "start_time": "2022-08-18T06:15:21.386951",
     "status": "completed"
    },
    "tags": []
   },
   "outputs": [],
   "source": [
    "# bag_model = BaggingClassifier(\n",
    "#     base_estimator=SVC(), \n",
    "#     n_estimators=100, \n",
    "#     max_samples=0.8, \n",
    "#     oob_score=True,\n",
    "#     random_state=0\n",
    "# )\n",
    "# bag_model.fit(X_train, y_train)\n",
    "# bag_model.oob_score_"
   ]
  },
  {
   "cell_type": "markdown",
   "id": "3ad195d1",
   "metadata": {
    "papermill": {
     "duration": 0.032472,
     "end_time": "2022-08-18T06:15:21.486735",
     "exception": false,
     "start_time": "2022-08-18T06:15:21.454263",
     "status": "completed"
    },
    "tags": []
   },
   "source": [
    "# Grid Search on boosting algorithms"
   ]
  },
  {
   "cell_type": "markdown",
   "id": "3f1b12b8",
   "metadata": {
    "papermill": {
     "duration": 0.034058,
     "end_time": "2022-08-18T06:15:21.554714",
     "exception": false,
     "start_time": "2022-08-18T06:15:21.520656",
     "status": "completed"
    },
    "tags": []
   },
   "source": [
    "# 1) Gradient Boosting Classifier"
   ]
  },
  {
   "cell_type": "markdown",
   "id": "6c26a84b",
   "metadata": {
    "papermill": {
     "duration": 0.023726,
     "end_time": "2022-08-18T06:15:21.605186",
     "exception": false,
     "start_time": "2022-08-18T06:15:21.581460",
     "status": "completed"
    },
    "tags": []
   },
   "source": [
    "#### Applying GridSearchCV to find the best parameters for our gradient boosting classifier"
   ]
  },
  {
   "cell_type": "code",
   "execution_count": 35,
   "id": "02b42de4",
   "metadata": {
    "execution": {
     "iopub.execute_input": "2022-08-18T06:15:21.655338Z",
     "iopub.status.busy": "2022-08-18T06:15:21.654788Z",
     "iopub.status.idle": "2022-08-18T06:15:21.661437Z",
     "shell.execute_reply": "2022-08-18T06:15:21.660296Z"
    },
    "papermill": {
     "duration": 0.035416,
     "end_time": "2022-08-18T06:15:21.664440",
     "exception": false,
     "start_time": "2022-08-18T06:15:21.629024",
     "status": "completed"
    },
    "tags": []
   },
   "outputs": [],
   "source": [
    "# from sklearn.ensemble import GradientBoostingClassifier\n",
    "# from sklearn.model_selection import GridSearchCV\n",
    "\n",
    "\n",
    "# gb_grid_params = {'learning_rate': [0.1, 0.05, 0.02, 0.01,1,10],\n",
    "#                   'max_depth': [1,3,5,7,9], \n",
    "#                   'n_estimators':[5,50,250,500],\n",
    "#               }\n",
    "\n",
    "# gb_gs = GradientBoostingClassifier()\n",
    "\n",
    "# clf = GridSearchCV(gb_gs,\n",
    "#                                gb_grid_params,\n",
    "#                                cv=5,\n",
    "#                                scoring='f1',\n",
    "#                                verbose = 3, \n",
    "#                                n_jobs=-1);\n",
    "# clf.fit(X_train, y_train);\n",
    "# pred = clf.predict(X_test)\n",
    "# print(classification_report(y_test, pred))"
   ]
  },
  {
   "cell_type": "code",
   "execution_count": 36,
   "id": "c8925b7d",
   "metadata": {
    "execution": {
     "iopub.execute_input": "2022-08-18T06:15:21.715027Z",
     "iopub.status.busy": "2022-08-18T06:15:21.713521Z",
     "iopub.status.idle": "2022-08-18T06:15:21.719973Z",
     "shell.execute_reply": "2022-08-18T06:15:21.718703Z"
    },
    "papermill": {
     "duration": 0.034556,
     "end_time": "2022-08-18T06:15:21.722663",
     "exception": false,
     "start_time": "2022-08-18T06:15:21.688107",
     "status": "completed"
    },
    "tags": []
   },
   "outputs": [],
   "source": [
    "# df=pd.DataFrame.from_dict(clf.cv_results_)\n",
    "# df.head()"
   ]
  },
  {
   "cell_type": "code",
   "execution_count": 37,
   "id": "b8a04c93",
   "metadata": {
    "execution": {
     "iopub.execute_input": "2022-08-18T06:15:21.776812Z",
     "iopub.status.busy": "2022-08-18T06:15:21.775805Z",
     "iopub.status.idle": "2022-08-18T06:15:21.781476Z",
     "shell.execute_reply": "2022-08-18T06:15:21.780383Z"
    },
    "papermill": {
     "duration": 0.036532,
     "end_time": "2022-08-18T06:15:21.784307",
     "exception": false,
     "start_time": "2022-08-18T06:15:21.747775",
     "status": "completed"
    },
    "tags": []
   },
   "outputs": [],
   "source": [
    "# clf.best_params_"
   ]
  },
  {
   "cell_type": "code",
   "execution_count": 38,
   "id": "054fb700",
   "metadata": {
    "execution": {
     "iopub.execute_input": "2022-08-18T06:15:21.837160Z",
     "iopub.status.busy": "2022-08-18T06:15:21.835443Z",
     "iopub.status.idle": "2022-08-18T06:15:21.841743Z",
     "shell.execute_reply": "2022-08-18T06:15:21.840439Z"
    },
    "papermill": {
     "duration": 0.035836,
     "end_time": "2022-08-18T06:15:21.844795",
     "exception": false,
     "start_time": "2022-08-18T06:15:21.808959",
     "status": "completed"
    },
    "tags": []
   },
   "outputs": [],
   "source": [
    "# clf.best_score_"
   ]
  },
  {
   "cell_type": "code",
   "execution_count": 39,
   "id": "aee249e1",
   "metadata": {
    "execution": {
     "iopub.execute_input": "2022-08-18T06:15:21.899129Z",
     "iopub.status.busy": "2022-08-18T06:15:21.897929Z",
     "iopub.status.idle": "2022-08-18T06:15:36.685445Z",
     "shell.execute_reply": "2022-08-18T06:15:36.683862Z"
    },
    "papermill": {
     "duration": 14.817036,
     "end_time": "2022-08-18T06:15:36.688393",
     "exception": false,
     "start_time": "2022-08-18T06:15:21.871357",
     "status": "completed"
    },
    "tags": []
   },
   "outputs": [
    {
     "name": "stdout",
     "output_type": "stream",
     "text": [
      "              precision    recall  f1-score   support\n",
      "\n",
      "           0       0.79      0.80      0.79      1456\n",
      "           1       0.85      0.84      0.85      2005\n",
      "\n",
      "    accuracy                           0.82      3461\n",
      "   macro avg       0.82      0.82      0.82      3461\n",
      "weighted avg       0.82      0.82      0.82      3461\n",
      "\n"
     ]
    }
   ],
   "source": [
    "from sklearn.ensemble import GradientBoostingClassifier\n",
    "cl1 = GradientBoostingClassifier(n_estimators=1000, learning_rate=0.05, max_depth=3)\n",
    "cl1.fit(X_train, y_train)\n",
    "pred = cl1.predict(X_test)\n",
    "print(classification_report(y_test, pred))"
   ]
  },
  {
   "cell_type": "markdown",
   "id": "9ad54c82",
   "metadata": {
    "papermill": {
     "duration": 0.021652,
     "end_time": "2022-08-18T06:15:36.732155",
     "exception": false,
     "start_time": "2022-08-18T06:15:36.710503",
     "status": "completed"
    },
    "tags": []
   },
   "source": [
    "# 2) AdaBoost Classifier"
   ]
  },
  {
   "cell_type": "code",
   "execution_count": 40,
   "id": "d436aaf5",
   "metadata": {
    "execution": {
     "iopub.execute_input": "2022-08-18T06:15:36.780584Z",
     "iopub.status.busy": "2022-08-18T06:15:36.779571Z",
     "iopub.status.idle": "2022-08-18T06:15:40.695550Z",
     "shell.execute_reply": "2022-08-18T06:15:40.694047Z"
    },
    "papermill": {
     "duration": 3.944091,
     "end_time": "2022-08-18T06:15:40.698225",
     "exception": false,
     "start_time": "2022-08-18T06:15:36.754134",
     "status": "completed"
    },
    "tags": []
   },
   "outputs": [
    {
     "name": "stdout",
     "output_type": "stream",
     "text": [
      "              precision    recall  f1-score   support\n",
      "\n",
      "           0       0.74      0.74      0.74      1456\n",
      "           1       0.81      0.81      0.81      2005\n",
      "\n",
      "    accuracy                           0.78      3461\n",
      "   macro avg       0.78      0.78      0.78      3461\n",
      "weighted avg       0.78      0.78      0.78      3461\n",
      "\n"
     ]
    }
   ],
   "source": [
    "from sklearn.ensemble import AdaBoostClassifier\n",
    "from sklearn.tree import DecisionTreeClassifier\n",
    "dtree = DecisionTreeClassifier()\n",
    "cl2 = AdaBoostClassifier(n_estimators=100, base_estimator=dtree,learning_rate=1)\n",
    "cl2.fit(X_train,y_train)\n",
    "pred = cl2.predict(X_test)\n",
    "print(classification_report(y_test, pred))"
   ]
  },
  {
   "cell_type": "markdown",
   "id": "ea67b031",
   "metadata": {
    "papermill": {
     "duration": 0.021929,
     "end_time": "2022-08-18T06:15:40.742426",
     "exception": false,
     "start_time": "2022-08-18T06:15:40.720497",
     "status": "completed"
    },
    "tags": []
   },
   "source": [
    "# 3) Xgboost"
   ]
  },
  {
   "cell_type": "code",
   "execution_count": 41,
   "id": "90513175",
   "metadata": {
    "execution": {
     "iopub.execute_input": "2022-08-18T06:15:40.788863Z",
     "iopub.status.busy": "2022-08-18T06:15:40.788466Z",
     "iopub.status.idle": "2022-08-18T06:15:40.794022Z",
     "shell.execute_reply": "2022-08-18T06:15:40.792780Z"
    },
    "papermill": {
     "duration": 0.032025,
     "end_time": "2022-08-18T06:15:40.796588",
     "exception": false,
     "start_time": "2022-08-18T06:15:40.764563",
     "status": "completed"
    },
    "tags": []
   },
   "outputs": [],
   "source": [
    "# import xgboost as xgb\n",
    "# from sklearn.model_selection import GridSearchCV\n",
    "# from sklearn.model_selection import StratifiedKFold\n",
    "# from xgboost import XGBClassifier\n",
    "\n",
    "# params = {'learning_rate': [0.1, 0.05, 0.02, 0.01,1,1.5],\n",
    "#               #'max_features': [1.0, 0.3, 0.1] \n",
    "#             'min_child_weight': [1, 5, 10],\n",
    "#             'gamma': [0.5, 1, 1.5, 2, 5],\n",
    "#             'subsample': [0.6, 0.8, 1.0],\n",
    "#             'colsample_bytree': [0.6, 0.8, 1.0],\n",
    "#             'max_depth': [3, 4, 5]\n",
    "#               }\n",
    "\n",
    "# xgb = xgb.XGBClassifier(n_estimators=600, objective='binary:logistic',\n",
    "#                     silent=True, nthread=1)\n",
    "\n",
    "# folds = 5\n",
    "# param_comb = 5\n",
    "\n",
    "# skf = StratifiedKFold(n_splits=folds, shuffle = True, random_state = 1001)\n",
    "\n",
    "# random_search = RandomizedSearchCV(xgb, param_distributions=params, n_iter=param_comb, scoring='f1', n_jobs=4, cv=skf.split(X_train,y_train), verbose=3, random_state=1001 )\n",
    "\n",
    "# # Here we go\n",
    "# start_time = timer(None) # timing starts from this point for \"start_time\" variable\n",
    "# random_search.fit(X_train, y_train)\n",
    "# timer(start_time) # timing ends here for \"start_time\" variable"
   ]
  },
  {
   "cell_type": "code",
   "execution_count": 42,
   "id": "55c102f3",
   "metadata": {
    "execution": {
     "iopub.execute_input": "2022-08-18T06:15:40.844040Z",
     "iopub.status.busy": "2022-08-18T06:15:40.843114Z",
     "iopub.status.idle": "2022-08-18T06:15:40.847900Z",
     "shell.execute_reply": "2022-08-18T06:15:40.846697Z"
    },
    "papermill": {
     "duration": 0.030722,
     "end_time": "2022-08-18T06:15:40.850160",
     "exception": false,
     "start_time": "2022-08-18T06:15:40.819438",
     "status": "completed"
    },
    "tags": []
   },
   "outputs": [],
   "source": [
    "# df = pd.DataFrame(clf.cv_results_)\n",
    "# df"
   ]
  },
  {
   "cell_type": "code",
   "execution_count": 43,
   "id": "b78a3ad0",
   "metadata": {
    "execution": {
     "iopub.execute_input": "2022-08-18T06:15:40.897947Z",
     "iopub.status.busy": "2022-08-18T06:15:40.896946Z",
     "iopub.status.idle": "2022-08-18T06:15:40.901551Z",
     "shell.execute_reply": "2022-08-18T06:15:40.900583Z"
    },
    "papermill": {
     "duration": 0.0301,
     "end_time": "2022-08-18T06:15:40.903551",
     "exception": false,
     "start_time": "2022-08-18T06:15:40.873451",
     "status": "completed"
    },
    "tags": []
   },
   "outputs": [],
   "source": [
    "# random_search.best_params_"
   ]
  },
  {
   "cell_type": "code",
   "execution_count": 44,
   "id": "bee17f08",
   "metadata": {
    "execution": {
     "iopub.execute_input": "2022-08-18T06:15:40.951091Z",
     "iopub.status.busy": "2022-08-18T06:15:40.950456Z",
     "iopub.status.idle": "2022-08-18T06:15:40.954125Z",
     "shell.execute_reply": "2022-08-18T06:15:40.953342Z"
    },
    "papermill": {
     "duration": 0.030106,
     "end_time": "2022-08-18T06:15:40.956286",
     "exception": false,
     "start_time": "2022-08-18T06:15:40.926180",
     "status": "completed"
    },
    "tags": []
   },
   "outputs": [],
   "source": [
    "# random_search.best_score_"
   ]
  },
  {
   "cell_type": "code",
   "execution_count": 45,
   "id": "3e8e70d0",
   "metadata": {
    "execution": {
     "iopub.execute_input": "2022-08-18T06:15:41.003768Z",
     "iopub.status.busy": "2022-08-18T06:15:41.003116Z",
     "iopub.status.idle": "2022-08-18T06:15:41.006866Z",
     "shell.execute_reply": "2022-08-18T06:15:41.006097Z"
    },
    "papermill": {
     "duration": 0.030561,
     "end_time": "2022-08-18T06:15:41.008957",
     "exception": false,
     "start_time": "2022-08-18T06:15:40.978396",
     "status": "completed"
    },
    "tags": []
   },
   "outputs": [],
   "source": [
    "# pred = random_search.predict(X_test)\n",
    "# print(classification_report(y_test, pred))"
   ]
  },
  {
   "cell_type": "code",
   "execution_count": 46,
   "id": "ecc9e5e4",
   "metadata": {
    "execution": {
     "iopub.execute_input": "2022-08-18T06:15:41.056754Z",
     "iopub.status.busy": "2022-08-18T06:15:41.055521Z",
     "iopub.status.idle": "2022-08-18T06:15:41.060133Z",
     "shell.execute_reply": "2022-08-18T06:15:41.059139Z"
    },
    "papermill": {
     "duration": 0.030842,
     "end_time": "2022-08-18T06:15:41.062420",
     "exception": false,
     "start_time": "2022-08-18T06:15:41.031578",
     "status": "completed"
    },
    "tags": []
   },
   "outputs": [],
   "source": [
    "# import xgboost as xgb\n",
    "# xgb_model = xgb.XGBClassifier(learning_rate=1.5, max_depth=1, n_estimators = 600)\n",
    "# xgb_model.fit(X_train, y_train)\n",
    "# xgb_pred = xgb_model.predict(X_test)\n",
    "# print('f1_score is:', f1_score(y_test,xgb_pred))"
   ]
  },
  {
   "cell_type": "markdown",
   "id": "14527052",
   "metadata": {
    "papermill": {
     "duration": 0.021934,
     "end_time": "2022-08-18T06:15:41.107178",
     "exception": false,
     "start_time": "2022-08-18T06:15:41.085244",
     "status": "completed"
    },
    "tags": []
   },
   "source": [
    "# 4) Catboost \n"
   ]
  },
  {
   "cell_type": "markdown",
   "id": "83ca0009",
   "metadata": {
    "papermill": {
     "duration": 0.022261,
     "end_time": "2022-08-18T06:15:41.152038",
     "exception": false,
     "start_time": "2022-08-18T06:15:41.129777",
     "status": "completed"
    },
    "tags": []
   },
   "source": [
    "### Here I am using inbuilt grid_search function of Catboost and not the Grid Search of sklearn library"
   ]
  },
  {
   "cell_type": "code",
   "execution_count": 47,
   "id": "1d5d13f2",
   "metadata": {
    "execution": {
     "iopub.execute_input": "2022-08-18T06:15:41.198745Z",
     "iopub.status.busy": "2022-08-18T06:15:41.197712Z",
     "iopub.status.idle": "2022-08-18T06:15:41.694908Z",
     "shell.execute_reply": "2022-08-18T06:15:41.693667Z"
    },
    "papermill": {
     "duration": 0.523711,
     "end_time": "2022-08-18T06:15:41.697686",
     "exception": false,
     "start_time": "2022-08-18T06:15:41.173975",
     "status": "completed"
    },
    "tags": []
   },
   "outputs": [
    {
     "data": {
      "text/plain": [
       "array([ 1,  3,  4,  5,  6,  7, 11])"
      ]
     },
     "execution_count": 47,
     "metadata": {},
     "output_type": "execute_result"
    }
   ],
   "source": [
    "from catboost import CatBoostClassifier\n",
    "import catboost as cb\n",
    "X = df_train.drop(['earning'], axis = 1)\n",
    "y = df_train.earning\n",
    "cat_features = np.where(X.dtypes != int)[0]\n",
    "cat_features"
   ]
  },
  {
   "cell_type": "code",
   "execution_count": 48,
   "id": "7d8c7dec",
   "metadata": {
    "execution": {
     "iopub.execute_input": "2022-08-18T06:15:41.744441Z",
     "iopub.status.busy": "2022-08-18T06:15:41.743422Z",
     "iopub.status.idle": "2022-08-18T06:15:41.803785Z",
     "shell.execute_reply": "2022-08-18T06:15:41.802897Z"
    },
    "papermill": {
     "duration": 0.0861,
     "end_time": "2022-08-18T06:15:41.806271",
     "exception": false,
     "start_time": "2022-08-18T06:15:41.720171",
     "status": "completed"
    },
    "tags": []
   },
   "outputs": [],
   "source": [
    "from sklearn.model_selection import train_test_split\n",
    "X_train, X_test, y_train, y_test = train_test_split(X,y, test_size = 0.25,random_state = 42)\n",
    "SEED = 1\n",
    "train_dataset = cb.Pool(X_train,y_train, cat_features=cat_features)\n",
    "test_dataset = cb.Pool(X_test,y_test, cat_features=cat_features)"
   ]
  },
  {
   "cell_type": "code",
   "execution_count": 49,
   "id": "38dabb68",
   "metadata": {
    "execution": {
     "iopub.execute_input": "2022-08-18T06:15:41.853730Z",
     "iopub.status.busy": "2022-08-18T06:15:41.852986Z",
     "iopub.status.idle": "2022-08-18T06:15:41.868261Z",
     "shell.execute_reply": "2022-08-18T06:15:41.867394Z"
    },
    "papermill": {
     "duration": 0.04211,
     "end_time": "2022-08-18T06:15:41.871073",
     "exception": false,
     "start_time": "2022-08-18T06:15:41.828963",
     "status": "completed"
    },
    "tags": []
   },
   "outputs": [
    {
     "data": {
      "text/html": [
       "<div>\n",
       "<style scoped>\n",
       "    .dataframe tbody tr th:only-of-type {\n",
       "        vertical-align: middle;\n",
       "    }\n",
       "\n",
       "    .dataframe tbody tr th {\n",
       "        vertical-align: top;\n",
       "    }\n",
       "\n",
       "    .dataframe thead th {\n",
       "        text-align: right;\n",
       "    }\n",
       "</style>\n",
       "<table border=\"1\" class=\"dataframe\">\n",
       "  <thead>\n",
       "    <tr style=\"text-align: right;\">\n",
       "      <th></th>\n",
       "      <th>Age</th>\n",
       "      <th>Working_class</th>\n",
       "      <th>education_num</th>\n",
       "      <th>marital_status</th>\n",
       "      <th>Occupation</th>\n",
       "      <th>relationship</th>\n",
       "      <th>race</th>\n",
       "      <th>gender</th>\n",
       "      <th>capital_gain</th>\n",
       "      <th>capital_loss</th>\n",
       "      <th>hours_per_week</th>\n",
       "      <th>native_country</th>\n",
       "    </tr>\n",
       "  </thead>\n",
       "  <tbody>\n",
       "    <tr>\n",
       "      <th>852</th>\n",
       "      <td>31</td>\n",
       "      <td>Private</td>\n",
       "      <td>4</td>\n",
       "      <td>Never-married</td>\n",
       "      <td>Handlers-cleaners</td>\n",
       "      <td>Own-child</td>\n",
       "      <td>White</td>\n",
       "      <td>Male</td>\n",
       "      <td>0</td>\n",
       "      <td>0</td>\n",
       "      <td>50</td>\n",
       "      <td>United-States</td>\n",
       "    </tr>\n",
       "    <tr>\n",
       "      <th>1494</th>\n",
       "      <td>35</td>\n",
       "      <td>Private</td>\n",
       "      <td>14</td>\n",
       "      <td>Never-married</td>\n",
       "      <td>Prof-specialty</td>\n",
       "      <td>Not-in-family</td>\n",
       "      <td>White</td>\n",
       "      <td>Male</td>\n",
       "      <td>0</td>\n",
       "      <td>0</td>\n",
       "      <td>45</td>\n",
       "      <td>United-States</td>\n",
       "    </tr>\n",
       "    <tr>\n",
       "      <th>4527</th>\n",
       "      <td>54</td>\n",
       "      <td>Self-emp-not-inc</td>\n",
       "      <td>14</td>\n",
       "      <td>Divorced</td>\n",
       "      <td>Prof-specialty</td>\n",
       "      <td>Not-in-family</td>\n",
       "      <td>White</td>\n",
       "      <td>Male</td>\n",
       "      <td>0</td>\n",
       "      <td>0</td>\n",
       "      <td>50</td>\n",
       "      <td>United-States</td>\n",
       "    </tr>\n",
       "    <tr>\n",
       "      <th>9621</th>\n",
       "      <td>23</td>\n",
       "      <td>Private</td>\n",
       "      <td>13</td>\n",
       "      <td>Never-married</td>\n",
       "      <td>Tech-support</td>\n",
       "      <td>Not-in-family</td>\n",
       "      <td>White</td>\n",
       "      <td>Female</td>\n",
       "      <td>0</td>\n",
       "      <td>0</td>\n",
       "      <td>40</td>\n",
       "      <td>United-States</td>\n",
       "    </tr>\n",
       "    <tr>\n",
       "      <th>2464</th>\n",
       "      <td>24</td>\n",
       "      <td>Private</td>\n",
       "      <td>9</td>\n",
       "      <td>Never-married</td>\n",
       "      <td>Handlers-cleaners</td>\n",
       "      <td>Own-child</td>\n",
       "      <td>Black</td>\n",
       "      <td>Male</td>\n",
       "      <td>0</td>\n",
       "      <td>0</td>\n",
       "      <td>25</td>\n",
       "      <td>United-States</td>\n",
       "    </tr>\n",
       "  </tbody>\n",
       "</table>\n",
       "</div>"
      ],
      "text/plain": [
       "      Age      Working_class  education_num  marital_status  \\\n",
       "852    31            Private              4   Never-married   \n",
       "1494   35            Private             14   Never-married   \n",
       "4527   54   Self-emp-not-inc             14        Divorced   \n",
       "9621   23            Private             13   Never-married   \n",
       "2464   24            Private              9   Never-married   \n",
       "\n",
       "              Occupation    relationship    race   gender  capital_gain  \\\n",
       "852    Handlers-cleaners       Own-child   White     Male             0   \n",
       "1494      Prof-specialty   Not-in-family   White     Male             0   \n",
       "4527      Prof-specialty   Not-in-family   White     Male             0   \n",
       "9621        Tech-support   Not-in-family   White   Female             0   \n",
       "2464   Handlers-cleaners       Own-child   Black     Male             0   \n",
       "\n",
       "      capital_loss  hours_per_week  native_country  \n",
       "852              0              50   United-States  \n",
       "1494             0              45   United-States  \n",
       "4527             0              50   United-States  \n",
       "9621             0              40   United-States  \n",
       "2464             0              25   United-States  "
      ]
     },
     "execution_count": 49,
     "metadata": {},
     "output_type": "execute_result"
    }
   ],
   "source": [
    "X_train.head(5)"
   ]
  },
  {
   "cell_type": "code",
   "execution_count": 50,
   "id": "02e7e025",
   "metadata": {
    "execution": {
     "iopub.execute_input": "2022-08-18T06:15:41.918592Z",
     "iopub.status.busy": "2022-08-18T06:15:41.917804Z",
     "iopub.status.idle": "2022-08-18T06:15:41.921742Z",
     "shell.execute_reply": "2022-08-18T06:15:41.921002Z"
    },
    "papermill": {
     "duration": 0.030167,
     "end_time": "2022-08-18T06:15:41.923943",
     "exception": false,
     "start_time": "2022-08-18T06:15:41.893776",
     "status": "completed"
    },
    "tags": []
   },
   "outputs": [],
   "source": [
    "# X_test"
   ]
  },
  {
   "cell_type": "markdown",
   "id": "e1b4e39b",
   "metadata": {
    "papermill": {
     "duration": 0.022771,
     "end_time": "2022-08-18T06:15:41.969343",
     "exception": false,
     "start_time": "2022-08-18T06:15:41.946572",
     "status": "completed"
    },
    "tags": []
   },
   "source": [
    "#### As our dataset is ready to use in catboost algorithm, We can apply grid search to find the best parameters for our model. But due to a large no. of parameters given in the grid the searching will require more than a hour to run and  for that reason I am not running this code while committing and alternatively you can use randomise search CV of sklearn."
   ]
  },
  {
   "cell_type": "code",
   "execution_count": 51,
   "id": "12d1e28b",
   "metadata": {
    "execution": {
     "iopub.execute_input": "2022-08-18T06:15:42.016941Z",
     "iopub.status.busy": "2022-08-18T06:15:42.016201Z",
     "iopub.status.idle": "2022-08-18T06:15:42.020862Z",
     "shell.execute_reply": "2022-08-18T06:15:42.020026Z"
    },
    "papermill": {
     "duration": 0.031068,
     "end_time": "2022-08-18T06:15:42.023121",
     "exception": false,
     "start_time": "2022-08-18T06:15:41.992053",
     "status": "completed"
    },
    "scrolled": true,
    "tags": []
   },
   "outputs": [],
   "source": [
    "# %%time\n",
    "\n",
    "# grid = {'depth':[1,2,3,4,5,6,7,8,9,10],\n",
    "#           'iterations':[10,50,250,500,1000],\n",
    "#           'learning_rate':[0.03,0.001,0.01,0.1,0.2,0.3,0.02,0.04], \n",
    "#           'l2_leaf_reg':[3,1,5,10,100],\n",
    "#             'loss_function' : ['Logloss', 'CrossEntropy']\n",
    "# #           'border_count':[32,5,10,20,50,100,200],\n",
    "# #           'ctr_border_count':[50,5,10,20,100,2200],\n",
    "# #           'thread_count':4\n",
    "#        }\n",
    "\n",
    "# model = CatBoostClassifier(eval_metric ='F1',cat_features= cat_features,verbose= 200,random_seed= SEED)\n",
    "# start_time = timer(None) # timing starts from this point for \"start_time\" variable\n",
    "# model.grid_search(grid,train_dataset,plot=True)\n",
    "\n",
    "# model.fit(train_dataset, \n",
    "#           eval_set=test_dataset,\n",
    "#           early_stopping_rounds=150,\n",
    "#           plot=True,\n",
    "#           )\n",
    "# timer(start_time) # timing ends here for \"start_time\" variable"
   ]
  },
  {
   "cell_type": "markdown",
   "id": "95418e0e",
   "metadata": {
    "papermill": {
     "duration": 0.022025,
     "end_time": "2022-08-18T06:15:42.068189",
     "exception": false,
     "start_time": "2022-08-18T06:15:42.046164",
     "status": "completed"
    },
    "tags": []
   },
   "source": [
    "#### Here I am providing the RandomiseSearchCV code. You can try this out."
   ]
  },
  {
   "cell_type": "code",
   "execution_count": 52,
   "id": "e814d4f7",
   "metadata": {
    "execution": {
     "iopub.execute_input": "2022-08-18T06:15:42.118572Z",
     "iopub.status.busy": "2022-08-18T06:15:42.117853Z",
     "iopub.status.idle": "2022-08-18T06:15:42.122517Z",
     "shell.execute_reply": "2022-08-18T06:15:42.121745Z"
    },
    "papermill": {
     "duration": 0.032462,
     "end_time": "2022-08-18T06:15:42.124514",
     "exception": false,
     "start_time": "2022-08-18T06:15:42.092052",
     "status": "completed"
    },
    "tags": []
   },
   "outputs": [],
   "source": [
    "\n",
    "# from sklearn.model_selection import GridSearchCV\n",
    "# from sklearn.model_selection import StratifiedKFold\n",
    "\n",
    "\n",
    "# grid = {'depth':[1,2,3,4,5,6,7,8,9,10],\n",
    "#           'iterations':[10,50,250,500,1000],\n",
    "#           'learning_rate':[0.03,0.001,0.01,0.1,0.2,0.3,0.02,0.04], \n",
    "#           'l2_leaf_reg':[3,1,5,10,100],\n",
    "#             'loss_function' : ['Logloss', 'CrossEntropy']\n",
    "# #           'border_count':[32,5,10,20,50,100,200],\n",
    "# #           'ctr_border_count':[50,5,10,20,100,2200],\n",
    "# #           'thread_count':4\n",
    "#        }\n",
    "\n",
    "# cbc = CatBoostClassifier(eval_metric ='F1',cat_features= cat_features,verbose= 200,random_seed= SEED)\n",
    "\n",
    "# folds = 5\n",
    "# param_comb = 5\n",
    "\n",
    "# skf = StratifiedKFold(n_splits=folds, shuffle = True, random_state = 1001)\n",
    "\n",
    "# random_search_cbc = RandomizedSearchCV(cbc, param_distributions=grid, n_iter=param_comb, scoring='f1', n_jobs=4, cv=skf.split(X_train,y_train), verbose=3, random_state=1001 )\n",
    "\n",
    "# # # Here we go\n",
    "# start_time = timer(None) # timing starts from this point for \"start_time\" variable\n",
    "# random_search_cbc.fit(X_train, y_train)\n",
    "# timer(start_time) # timing ends here for \"start_time\" variable"
   ]
  },
  {
   "cell_type": "code",
   "execution_count": 53,
   "id": "d037080b",
   "metadata": {
    "execution": {
     "iopub.execute_input": "2022-08-18T06:15:42.173137Z",
     "iopub.status.busy": "2022-08-18T06:15:42.172408Z",
     "iopub.status.idle": "2022-08-18T06:15:42.176392Z",
     "shell.execute_reply": "2022-08-18T06:15:42.175538Z"
    },
    "papermill": {
     "duration": 0.031185,
     "end_time": "2022-08-18T06:15:42.178574",
     "exception": false,
     "start_time": "2022-08-18T06:15:42.147389",
     "status": "completed"
    },
    "tags": []
   },
   "outputs": [],
   "source": [
    "# pred = random_search_cbc.predict(X_test)\n",
    "# print(classification_report(y_test, pred))"
   ]
  },
  {
   "cell_type": "code",
   "execution_count": 54,
   "id": "95584584",
   "metadata": {
    "execution": {
     "iopub.execute_input": "2022-08-18T06:15:42.226097Z",
     "iopub.status.busy": "2022-08-18T06:15:42.225427Z",
     "iopub.status.idle": "2022-08-18T06:15:42.229512Z",
     "shell.execute_reply": "2022-08-18T06:15:42.228672Z"
    },
    "papermill": {
     "duration": 0.029825,
     "end_time": "2022-08-18T06:15:42.231634",
     "exception": false,
     "start_time": "2022-08-18T06:15:42.201809",
     "status": "completed"
    },
    "tags": []
   },
   "outputs": [],
   "source": [
    "# from catboost import CatBoostClassifier\n",
    "# import catboost as cb\n",
    "# X = df_train.drop(['earning'], axis = 1)\n",
    "# y = df_train.earning\n",
    "# from sklearn.model_selection import train_test_split\n",
    "# X_train, X_test, y_train, y_test = train_test_split(X,y, test_size = 0.25,random_state = 42)\n",
    "# cat_features = np.where(X.dtypes != int)[0]\n",
    "# cat_features"
   ]
  },
  {
   "cell_type": "code",
   "execution_count": 55,
   "id": "a2871c80",
   "metadata": {
    "execution": {
     "iopub.execute_input": "2022-08-18T06:15:42.279130Z",
     "iopub.status.busy": "2022-08-18T06:15:42.278433Z",
     "iopub.status.idle": "2022-08-18T06:15:42.282607Z",
     "shell.execute_reply": "2022-08-18T06:15:42.281524Z"
    },
    "papermill": {
     "duration": 0.030346,
     "end_time": "2022-08-18T06:15:42.284875",
     "exception": false,
     "start_time": "2022-08-18T06:15:42.254529",
     "status": "completed"
    },
    "tags": []
   },
   "outputs": [],
   "source": [
    "# X_train"
   ]
  },
  {
   "cell_type": "markdown",
   "id": "f66fa896",
   "metadata": {
    "papermill": {
     "duration": 0.022044,
     "end_time": "2022-08-18T06:15:42.329324",
     "exception": false,
     "start_time": "2022-08-18T06:15:42.307280",
     "status": "completed"
    },
    "tags": []
   },
   "source": [
    "#### I wanted to compare the inbuilt grid_search function of catboost with the sklearn gridsearchCV, So I tried this out and surprisingly sklearn GrisSearchCV got a better score.(Unexpected but anyways)"
   ]
  },
  {
   "cell_type": "code",
   "execution_count": 56,
   "id": "feb488df",
   "metadata": {
    "execution": {
     "iopub.execute_input": "2022-08-18T06:15:42.375983Z",
     "iopub.status.busy": "2022-08-18T06:15:42.375536Z",
     "iopub.status.idle": "2022-08-18T06:15:42.380038Z",
     "shell.execute_reply": "2022-08-18T06:15:42.379105Z"
    },
    "papermill": {
     "duration": 0.030302,
     "end_time": "2022-08-18T06:15:42.382088",
     "exception": false,
     "start_time": "2022-08-18T06:15:42.351786",
     "status": "completed"
    },
    "scrolled": true,
    "tags": []
   },
   "outputs": [],
   "source": [
    "# from sklearn.model_selection import GridSearchCV\n",
    "# from sklearn.model_selection import RandomizedSearchCV\n",
    "# grid = {'depth':[1,2,3,4,5,6,7,8,9,10],\n",
    "#         'iterations':[10,50,100,250,5001000],\n",
    "#         'learning_rate':[0.03,0.001,0.01,0.1,0.2,0.3,0.02,0.04], \n",
    "# #         'l2_leaf_reg':[3,1,5,10,100],\n",
    "#         'loss_function' : ['Logloss', 'CrossEntropy']\n",
    "# #           'border_count':[32,5,10,20,50,100,200],\n",
    "# #           'ctr_border_count':[50,5,10,20,100,2200],\n",
    "# #           'thread_count':4\n",
    "#        }\n",
    "\n",
    "# rs = GridSearchCV(CatBoostClassifier(eval_metric ='F1',cat_features= cat_features,verbose= 200,random_seed= 42),\n",
    "#     param_grid= grid,\n",
    "#     cv=5, \n",
    "#     verbose = 3,\n",
    "#     n_jobs = -1,\n",
    "#     return_train_score=False, \n",
    "# )\n",
    "# rs.fit(X_train,y_train)\n",
    "# pred = rs.predict(X_test)\n",
    "# print(classification_report(y_test, pred))"
   ]
  },
  {
   "cell_type": "code",
   "execution_count": 57,
   "id": "df03acfb",
   "metadata": {
    "execution": {
     "iopub.execute_input": "2022-08-18T06:15:42.430065Z",
     "iopub.status.busy": "2022-08-18T06:15:42.429418Z",
     "iopub.status.idle": "2022-08-18T06:15:42.433614Z",
     "shell.execute_reply": "2022-08-18T06:15:42.432851Z"
    },
    "papermill": {
     "duration": 0.031331,
     "end_time": "2022-08-18T06:15:42.435752",
     "exception": false,
     "start_time": "2022-08-18T06:15:42.404421",
     "status": "completed"
    },
    "tags": []
   },
   "outputs": [],
   "source": [
    "# from sklearn.model_selection import RandomizedSearchCV\n",
    "# parameters = {'depth':[1,3,7,10],\n",
    "#         'iterations':[1000],\n",
    "#         'learning_rate':[0.03,0.001,0.01,0.1,0.2,0.3], \n",
    "#         'l2_leaf_reg':[3,1,5,10,100],\n",
    "#         'border_count':[32,5,10,20,50,100,200],\n",
    "# #         'ctr_border_count':[50,5,10,20,100,2200],\n",
    "# #         'thread_count':4\n",
    "#     }\n",
    "\n",
    "# rs = RandomizedSearchCV(CatBoostClassifier(loss_function ='Logloss',eval_metric ='F1',cat_features= cat_features,verbose= 200,random_seed= 42),\n",
    "#     param_distributions = parameters,\n",
    "#     cv=5, \n",
    "#     return_train_score=False, \n",
    "#     n_iter=5\n",
    "# )\n",
    "# rs.fit(X_train,y_train)"
   ]
  },
  {
   "cell_type": "code",
   "execution_count": 58,
   "id": "05db465e",
   "metadata": {
    "execution": {
     "iopub.execute_input": "2022-08-18T06:15:42.484814Z",
     "iopub.status.busy": "2022-08-18T06:15:42.483849Z",
     "iopub.status.idle": "2022-08-18T06:15:42.488873Z",
     "shell.execute_reply": "2022-08-18T06:15:42.487856Z"
    },
    "papermill": {
     "duration": 0.032635,
     "end_time": "2022-08-18T06:15:42.491305",
     "exception": false,
     "start_time": "2022-08-18T06:15:42.458670",
     "status": "completed"
    },
    "tags": []
   },
   "outputs": [],
   "source": [
    "# from catboost import CatBoostClassifier\n",
    "# cb = CatBoostClassifier(eval_metric ='F1',verbose= 200,random_seed= 42, depth = 5,iterations = 1000, learning_rate = 0.3, loss_function = 'Logloss')\n",
    "# cb.fit(X_train, y_train,eval_set=(X_test, y_test),plot=True)\n",
    "# pred = cb.predict(X_test)\n",
    "# print(classification_report(y_test, pred))"
   ]
  },
  {
   "cell_type": "code",
   "execution_count": 59,
   "id": "2c7c5263",
   "metadata": {
    "execution": {
     "iopub.execute_input": "2022-08-18T06:15:42.538651Z",
     "iopub.status.busy": "2022-08-18T06:15:42.538249Z",
     "iopub.status.idle": "2022-08-18T06:15:42.543271Z",
     "shell.execute_reply": "2022-08-18T06:15:42.541909Z"
    },
    "papermill": {
     "duration": 0.0312,
     "end_time": "2022-08-18T06:15:42.545538",
     "exception": false,
     "start_time": "2022-08-18T06:15:42.514338",
     "status": "completed"
    },
    "tags": []
   },
   "outputs": [],
   "source": [
    "# rs.best_params_"
   ]
  },
  {
   "cell_type": "code",
   "execution_count": 60,
   "id": "3096eb73",
   "metadata": {
    "execution": {
     "iopub.execute_input": "2022-08-18T06:15:42.595574Z",
     "iopub.status.busy": "2022-08-18T06:15:42.594344Z",
     "iopub.status.idle": "2022-08-18T06:15:42.599186Z",
     "shell.execute_reply": "2022-08-18T06:15:42.598286Z"
    },
    "papermill": {
     "duration": 0.031697,
     "end_time": "2022-08-18T06:15:42.601438",
     "exception": false,
     "start_time": "2022-08-18T06:15:42.569741",
     "status": "completed"
    },
    "tags": []
   },
   "outputs": [],
   "source": [
    "# rs.best_score_"
   ]
  },
  {
   "cell_type": "code",
   "execution_count": 61,
   "id": "1f632857",
   "metadata": {
    "execution": {
     "iopub.execute_input": "2022-08-18T06:15:42.648507Z",
     "iopub.status.busy": "2022-08-18T06:15:42.647681Z",
     "iopub.status.idle": "2022-08-18T06:15:42.651741Z",
     "shell.execute_reply": "2022-08-18T06:15:42.650912Z"
    },
    "papermill": {
     "duration": 0.030219,
     "end_time": "2022-08-18T06:15:42.654250",
     "exception": false,
     "start_time": "2022-08-18T06:15:42.624031",
     "status": "completed"
    },
    "tags": []
   },
   "outputs": [],
   "source": [
    "# predictions = rs.predict(df_test)\n",
    "# predictions "
   ]
  },
  {
   "cell_type": "markdown",
   "id": "896a9220",
   "metadata": {
    "papermill": {
     "duration": 0.021917,
     "end_time": "2022-08-18T06:15:42.698465",
     "exception": false,
     "start_time": "2022-08-18T06:15:42.676548",
     "status": "completed"
    },
    "tags": []
   },
   "source": [
    "# Plotting confusion matrix"
   ]
  },
  {
   "cell_type": "code",
   "execution_count": 62,
   "id": "48e182d3",
   "metadata": {
    "execution": {
     "iopub.execute_input": "2022-08-18T06:15:42.745236Z",
     "iopub.status.busy": "2022-08-18T06:15:42.744789Z",
     "iopub.status.idle": "2022-08-18T06:15:42.755555Z",
     "shell.execute_reply": "2022-08-18T06:15:42.754603Z"
    },
    "papermill": {
     "duration": 0.036579,
     "end_time": "2022-08-18T06:15:42.757740",
     "exception": false,
     "start_time": "2022-08-18T06:15:42.721161",
     "status": "completed"
    },
    "tags": []
   },
   "outputs": [
    {
     "data": {
      "text/plain": [
       "array([[1081,  375],\n",
       "       [ 381, 1624]])"
      ]
     },
     "execution_count": 62,
     "metadata": {},
     "output_type": "execute_result"
    }
   ],
   "source": [
    "y_pred = pred\n",
    "from sklearn import metrics\n",
    "conf_matrix = metrics.confusion_matrix(y_true=y_test, y_pred=y_pred)\n",
    "conf_matrix"
   ]
  },
  {
   "cell_type": "code",
   "execution_count": 63,
   "id": "0d8ae549",
   "metadata": {
    "execution": {
     "iopub.execute_input": "2022-08-18T06:15:42.806499Z",
     "iopub.status.busy": "2022-08-18T06:15:42.805237Z",
     "iopub.status.idle": "2022-08-18T06:15:43.092527Z",
     "shell.execute_reply": "2022-08-18T06:15:43.091026Z"
    },
    "papermill": {
     "duration": 0.315241,
     "end_time": "2022-08-18T06:15:43.096479",
     "exception": false,
     "start_time": "2022-08-18T06:15:42.781238",
     "status": "completed"
    },
    "tags": []
   },
   "outputs": [
    {
     "data": {
      "image/png": "[encoded data removed]",
      "text/plain": [
       "<Figure size 540x540 with 1 Axes>"
      ]
     },
     "metadata": {
      "needs_background": "light"
     },
     "output_type": "display_data"
    }
   ],
   "source": [
    "from matplotlib import pyplot as plt\n",
    "fig, ax = plt.subplots(figsize=(7.5, 7.5))\n",
    "ax.matshow(conf_matrix, cmap=plt.cm.Blues, alpha=0.3)\n",
    "for i in range(conf_matrix.shape[0]):\n",
    "    for j in range(conf_matrix.shape[1]):\n",
    "        ax.text(x=j, y=i,s=conf_matrix[i, j], va='center', ha='center', size='xx-large')\n",
    " \n",
    "plt.xlabel('Predictions', fontsize=18)\n",
    "plt.ylabel('Actuals', fontsize=18)\n",
    "plt.title('Confusion Matrix', fontsize=18)\n",
    "plt.show()"
   ]
  },
  {
   "cell_type": "code",
   "execution_count": 64,
   "id": "df681616",
   "metadata": {
    "execution": {
     "iopub.execute_input": "2022-08-18T06:15:43.156440Z",
     "iopub.status.busy": "2022-08-18T06:15:43.155703Z",
     "iopub.status.idle": "2022-08-18T06:15:43.160228Z",
     "shell.execute_reply": "2022-08-18T06:15:43.159389Z"
    },
    "papermill": {
     "duration": 0.032015,
     "end_time": "2022-08-18T06:15:43.162566",
     "exception": false,
     "start_time": "2022-08-18T06:15:43.130551",
     "status": "completed"
    },
    "tags": []
   },
   "outputs": [],
   "source": [
    "# predictions = cb.predict(test_final)\n",
    "# predictions\n"
   ]
  },
  {
   "cell_type": "code",
   "execution_count": 65,
   "id": "9edc635a",
   "metadata": {
    "execution": {
     "iopub.execute_input": "2022-08-18T06:15:43.210589Z",
     "iopub.status.busy": "2022-08-18T06:15:43.209769Z",
     "iopub.status.idle": "2022-08-18T06:15:43.214749Z",
     "shell.execute_reply": "2022-08-18T06:15:43.213855Z"
    },
    "papermill": {
     "duration": 0.03168,
     "end_time": "2022-08-18T06:15:43.217211",
     "exception": false,
     "start_time": "2022-08-18T06:15:43.185531",
     "status": "completed"
    },
    "tags": []
   },
   "outputs": [],
   "source": [
    "# submission = pd.DataFrame({\n",
    "#         \"id\": id,\n",
    "#         \"earning\": predictions\n",
    "#     })\n",
    "# submission.to_csv('submission.csv', index=False)\n",
    "# print('output was successfully saved')"
   ]
  },
  {
   "cell_type": "code",
   "execution_count": 66,
   "id": "72702af5",
   "metadata": {
    "execution": {
     "iopub.execute_input": "2022-08-18T06:15:43.265196Z",
     "iopub.status.busy": "2022-08-18T06:15:43.264410Z",
     "iopub.status.idle": "2022-08-18T06:15:43.269210Z",
     "shell.execute_reply": "2022-08-18T06:15:43.268230Z"
    },
    "papermill": {
     "duration": 0.031443,
     "end_time": "2022-08-18T06:15:43.271592",
     "exception": false,
     "start_time": "2022-08-18T06:15:43.240149",
     "status": "completed"
    },
    "tags": []
   },
   "outputs": [],
   "source": [
    "# result = pd.read_csv('submission.csv')\n",
    "# result.head(10)"
   ]
  },
  {
   "cell_type": "markdown",
   "id": "217db982",
   "metadata": {
    "papermill": {
     "duration": 0.02352,
     "end_time": "2022-08-18T06:15:43.318900",
     "exception": false,
     "start_time": "2022-08-18T06:15:43.295380",
     "status": "completed"
    },
    "tags": []
   },
   "source": [
    "#### I got a decent score of 0.84477 on private leaderboard."
   ]
  }
 ],
 "metadata": {
  "kernelspec": {
   "display_name": "Python 3",
   "language": "python",
   "name": "python3"
  },
  "language_info": {
   "codemirror_mode": {
    "name": "ipython",
    "version": 3
   },
   "file_extension": ".py",
   "mimetype": "text/x-python",
   "name": "python",
   "nbconvert_exporter": "python",
   "pygments_lexer": "ipython3",
   "version": "3.7.12"
  },
  "papermill": {
   "default_parameters": {},
   "duration": 74.020879,
   "end_time": "2022-08-18T06:15:44.164575",
   "environment_variables": {},
   "exception": null,
   "input_path": "__notebook__.ipynb",
   "output_path": "__notebook__.ipynb",
   "parameters": {},
   "start_time": "2022-08-18T06:14:30.143696",
   "version": "2.3.4"
  }
 },
 "nbformat": 4,
 "nbformat_minor": 5
}
